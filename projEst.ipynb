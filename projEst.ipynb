{
  "cells": [
    {
      "cell_type": "markdown",
      "metadata": {
        "id": "nMKdo-1JlZLU"
      },
      "source": [
        "# Predicting The Number of People in a Room Using a Gaussian Naive Bayes Classifier"
      ]
    },
    {
      "cell_type": "markdown",
      "metadata": {
        "id": "L-DyejLTllxM"
      },
      "source": [
        "In this notebook, we will use the SciKit library to make models with the objective of predicting the number of people present in a closed environment with non-intrusive data, such as temperature of the room, the amount of noise or if movement is being detected."
      ]
    },
    {
      "cell_type": "markdown",
      "metadata": {
        "id": "4S6ofyo7mS_T"
      },
      "source": [
        "First, we will need to import an additional library to better deal with the data: Pandas."
      ]
    },
    {
      "cell_type": "code",
      "execution_count": 120,
      "metadata": {
        "id": "BLA4MS2amPN2"
      },
      "outputs": [],
      "source": [
        "import pandas as pd"
      ]
    },
    {
      "cell_type": "markdown",
      "metadata": {
        "id": "Jo325FXumzwQ"
      },
      "source": [
        "Then we will import the database that will be using to train our classifier."
      ]
    },
    {
      "cell_type": "code",
      "execution_count": 121,
      "metadata": {
        "colab": {
          "base_uri": "https://localhost:8080/",
          "height": 488
        },
        "id": "4J6iYTEqm4-w",
        "outputId": "0b96a8d5-dad4-4cec-d824-718b3b6da850"
      },
      "outputs": [
        {
          "data": {
            "text/html": [
              "<div>\n",
              "<style scoped>\n",
              "    .dataframe tbody tr th:only-of-type {\n",
              "        vertical-align: middle;\n",
              "    }\n",
              "\n",
              "    .dataframe tbody tr th {\n",
              "        vertical-align: top;\n",
              "    }\n",
              "\n",
              "    .dataframe thead th {\n",
              "        text-align: right;\n",
              "    }\n",
              "</style>\n",
              "<table border=\"1\" class=\"dataframe\">\n",
              "  <thead>\n",
              "    <tr style=\"text-align: right;\">\n",
              "      <th></th>\n",
              "      <th>Date</th>\n",
              "      <th>Time</th>\n",
              "      <th>S1_Temp</th>\n",
              "      <th>S2_Temp</th>\n",
              "      <th>S3_Temp</th>\n",
              "      <th>S4_Temp</th>\n",
              "      <th>S1_Light</th>\n",
              "      <th>S2_Light</th>\n",
              "      <th>S3_Light</th>\n",
              "      <th>S4_Light</th>\n",
              "      <th>S1_Sound</th>\n",
              "      <th>S2_Sound</th>\n",
              "      <th>S3_Sound</th>\n",
              "      <th>S4_Sound</th>\n",
              "      <th>S5_CO2</th>\n",
              "      <th>S5_CO2_Slope</th>\n",
              "      <th>S6_PIR</th>\n",
              "      <th>S7_PIR</th>\n",
              "      <th>Room_Occupancy_Count</th>\n",
              "    </tr>\n",
              "  </thead>\n",
              "  <tbody>\n",
              "    <tr>\n",
              "      <th>0</th>\n",
              "      <td>2017/12/22</td>\n",
              "      <td>10:49:41</td>\n",
              "      <td>24.94</td>\n",
              "      <td>24.75</td>\n",
              "      <td>24.56</td>\n",
              "      <td>25.38</td>\n",
              "      <td>121</td>\n",
              "      <td>34</td>\n",
              "      <td>53</td>\n",
              "      <td>40</td>\n",
              "      <td>0.08</td>\n",
              "      <td>0.19</td>\n",
              "      <td>0.06</td>\n",
              "      <td>0.06</td>\n",
              "      <td>390</td>\n",
              "      <td>0.769231</td>\n",
              "      <td>0</td>\n",
              "      <td>0</td>\n",
              "      <td>1</td>\n",
              "    </tr>\n",
              "    <tr>\n",
              "      <th>1</th>\n",
              "      <td>2017/12/22</td>\n",
              "      <td>10:50:12</td>\n",
              "      <td>24.94</td>\n",
              "      <td>24.75</td>\n",
              "      <td>24.56</td>\n",
              "      <td>25.44</td>\n",
              "      <td>121</td>\n",
              "      <td>33</td>\n",
              "      <td>53</td>\n",
              "      <td>40</td>\n",
              "      <td>0.93</td>\n",
              "      <td>0.05</td>\n",
              "      <td>0.06</td>\n",
              "      <td>0.06</td>\n",
              "      <td>390</td>\n",
              "      <td>0.646154</td>\n",
              "      <td>0</td>\n",
              "      <td>0</td>\n",
              "      <td>1</td>\n",
              "    </tr>\n",
              "    <tr>\n",
              "      <th>2</th>\n",
              "      <td>2017/12/22</td>\n",
              "      <td>10:50:42</td>\n",
              "      <td>25.00</td>\n",
              "      <td>24.75</td>\n",
              "      <td>24.50</td>\n",
              "      <td>25.44</td>\n",
              "      <td>121</td>\n",
              "      <td>34</td>\n",
              "      <td>53</td>\n",
              "      <td>40</td>\n",
              "      <td>0.43</td>\n",
              "      <td>0.11</td>\n",
              "      <td>0.08</td>\n",
              "      <td>0.06</td>\n",
              "      <td>390</td>\n",
              "      <td>0.519231</td>\n",
              "      <td>0</td>\n",
              "      <td>0</td>\n",
              "      <td>1</td>\n",
              "    </tr>\n",
              "    <tr>\n",
              "      <th>3</th>\n",
              "      <td>2017/12/22</td>\n",
              "      <td>10:51:13</td>\n",
              "      <td>25.00</td>\n",
              "      <td>24.75</td>\n",
              "      <td>24.56</td>\n",
              "      <td>25.44</td>\n",
              "      <td>121</td>\n",
              "      <td>34</td>\n",
              "      <td>53</td>\n",
              "      <td>40</td>\n",
              "      <td>0.41</td>\n",
              "      <td>0.10</td>\n",
              "      <td>0.10</td>\n",
              "      <td>0.09</td>\n",
              "      <td>390</td>\n",
              "      <td>0.388462</td>\n",
              "      <td>0</td>\n",
              "      <td>0</td>\n",
              "      <td>1</td>\n",
              "    </tr>\n",
              "    <tr>\n",
              "      <th>4</th>\n",
              "      <td>2017/12/22</td>\n",
              "      <td>10:51:44</td>\n",
              "      <td>25.00</td>\n",
              "      <td>24.75</td>\n",
              "      <td>24.56</td>\n",
              "      <td>25.44</td>\n",
              "      <td>121</td>\n",
              "      <td>34</td>\n",
              "      <td>54</td>\n",
              "      <td>40</td>\n",
              "      <td>0.18</td>\n",
              "      <td>0.06</td>\n",
              "      <td>0.06</td>\n",
              "      <td>0.06</td>\n",
              "      <td>390</td>\n",
              "      <td>0.253846</td>\n",
              "      <td>0</td>\n",
              "      <td>0</td>\n",
              "      <td>1</td>\n",
              "    </tr>\n",
              "    <tr>\n",
              "      <th>...</th>\n",
              "      <td>...</td>\n",
              "      <td>...</td>\n",
              "      <td>...</td>\n",
              "      <td>...</td>\n",
              "      <td>...</td>\n",
              "      <td>...</td>\n",
              "      <td>...</td>\n",
              "      <td>...</td>\n",
              "      <td>...</td>\n",
              "      <td>...</td>\n",
              "      <td>...</td>\n",
              "      <td>...</td>\n",
              "      <td>...</td>\n",
              "      <td>...</td>\n",
              "      <td>...</td>\n",
              "      <td>...</td>\n",
              "      <td>...</td>\n",
              "      <td>...</td>\n",
              "      <td>...</td>\n",
              "    </tr>\n",
              "    <tr>\n",
              "      <th>10124</th>\n",
              "      <td>2018/01/11</td>\n",
              "      <td>08:58:07</td>\n",
              "      <td>25.06</td>\n",
              "      <td>25.13</td>\n",
              "      <td>24.69</td>\n",
              "      <td>25.31</td>\n",
              "      <td>6</td>\n",
              "      <td>7</td>\n",
              "      <td>33</td>\n",
              "      <td>22</td>\n",
              "      <td>0.09</td>\n",
              "      <td>0.04</td>\n",
              "      <td>0.06</td>\n",
              "      <td>0.08</td>\n",
              "      <td>345</td>\n",
              "      <td>0.000000</td>\n",
              "      <td>0</td>\n",
              "      <td>0</td>\n",
              "      <td>0</td>\n",
              "    </tr>\n",
              "    <tr>\n",
              "      <th>10125</th>\n",
              "      <td>2018/01/11</td>\n",
              "      <td>08:58:37</td>\n",
              "      <td>25.06</td>\n",
              "      <td>25.06</td>\n",
              "      <td>24.69</td>\n",
              "      <td>25.25</td>\n",
              "      <td>6</td>\n",
              "      <td>7</td>\n",
              "      <td>34</td>\n",
              "      <td>22</td>\n",
              "      <td>0.07</td>\n",
              "      <td>0.05</td>\n",
              "      <td>0.05</td>\n",
              "      <td>0.08</td>\n",
              "      <td>345</td>\n",
              "      <td>0.000000</td>\n",
              "      <td>0</td>\n",
              "      <td>0</td>\n",
              "      <td>0</td>\n",
              "    </tr>\n",
              "    <tr>\n",
              "      <th>10126</th>\n",
              "      <td>2018/01/11</td>\n",
              "      <td>08:59:08</td>\n",
              "      <td>25.13</td>\n",
              "      <td>25.06</td>\n",
              "      <td>24.69</td>\n",
              "      <td>25.25</td>\n",
              "      <td>6</td>\n",
              "      <td>7</td>\n",
              "      <td>34</td>\n",
              "      <td>22</td>\n",
              "      <td>0.11</td>\n",
              "      <td>0.05</td>\n",
              "      <td>0.06</td>\n",
              "      <td>0.08</td>\n",
              "      <td>345</td>\n",
              "      <td>0.000000</td>\n",
              "      <td>0</td>\n",
              "      <td>0</td>\n",
              "      <td>0</td>\n",
              "    </tr>\n",
              "    <tr>\n",
              "      <th>10127</th>\n",
              "      <td>2018/01/11</td>\n",
              "      <td>08:59:39</td>\n",
              "      <td>25.13</td>\n",
              "      <td>25.06</td>\n",
              "      <td>24.69</td>\n",
              "      <td>25.25</td>\n",
              "      <td>6</td>\n",
              "      <td>7</td>\n",
              "      <td>34</td>\n",
              "      <td>22</td>\n",
              "      <td>0.08</td>\n",
              "      <td>0.08</td>\n",
              "      <td>0.10</td>\n",
              "      <td>0.08</td>\n",
              "      <td>345</td>\n",
              "      <td>0.000000</td>\n",
              "      <td>0</td>\n",
              "      <td>0</td>\n",
              "      <td>0</td>\n",
              "    </tr>\n",
              "    <tr>\n",
              "      <th>10128</th>\n",
              "      <td>2018/01/11</td>\n",
              "      <td>09:00:09</td>\n",
              "      <td>25.13</td>\n",
              "      <td>25.06</td>\n",
              "      <td>24.69</td>\n",
              "      <td>25.25</td>\n",
              "      <td>6</td>\n",
              "      <td>7</td>\n",
              "      <td>34</td>\n",
              "      <td>22</td>\n",
              "      <td>0.08</td>\n",
              "      <td>0.05</td>\n",
              "      <td>0.06</td>\n",
              "      <td>0.08</td>\n",
              "      <td>345</td>\n",
              "      <td>0.000000</td>\n",
              "      <td>0</td>\n",
              "      <td>0</td>\n",
              "      <td>0</td>\n",
              "    </tr>\n",
              "  </tbody>\n",
              "</table>\n",
              "<p>10129 rows × 19 columns</p>\n",
              "</div>"
            ],
            "text/plain": [
              "             Date      Time  S1_Temp  S2_Temp  S3_Temp  S4_Temp  S1_Light  \\\n",
              "0      2017/12/22  10:49:41    24.94    24.75    24.56    25.38       121   \n",
              "1      2017/12/22  10:50:12    24.94    24.75    24.56    25.44       121   \n",
              "2      2017/12/22  10:50:42    25.00    24.75    24.50    25.44       121   \n",
              "3      2017/12/22  10:51:13    25.00    24.75    24.56    25.44       121   \n",
              "4      2017/12/22  10:51:44    25.00    24.75    24.56    25.44       121   \n",
              "...           ...       ...      ...      ...      ...      ...       ...   \n",
              "10124  2018/01/11  08:58:07    25.06    25.13    24.69    25.31         6   \n",
              "10125  2018/01/11  08:58:37    25.06    25.06    24.69    25.25         6   \n",
              "10126  2018/01/11  08:59:08    25.13    25.06    24.69    25.25         6   \n",
              "10127  2018/01/11  08:59:39    25.13    25.06    24.69    25.25         6   \n",
              "10128  2018/01/11  09:00:09    25.13    25.06    24.69    25.25         6   \n",
              "\n",
              "       S2_Light  S3_Light  S4_Light  S1_Sound  S2_Sound  S3_Sound  S4_Sound  \\\n",
              "0            34        53        40      0.08      0.19      0.06      0.06   \n",
              "1            33        53        40      0.93      0.05      0.06      0.06   \n",
              "2            34        53        40      0.43      0.11      0.08      0.06   \n",
              "3            34        53        40      0.41      0.10      0.10      0.09   \n",
              "4            34        54        40      0.18      0.06      0.06      0.06   \n",
              "...         ...       ...       ...       ...       ...       ...       ...   \n",
              "10124         7        33        22      0.09      0.04      0.06      0.08   \n",
              "10125         7        34        22      0.07      0.05      0.05      0.08   \n",
              "10126         7        34        22      0.11      0.05      0.06      0.08   \n",
              "10127         7        34        22      0.08      0.08      0.10      0.08   \n",
              "10128         7        34        22      0.08      0.05      0.06      0.08   \n",
              "\n",
              "       S5_CO2  S5_CO2_Slope  S6_PIR  S7_PIR  Room_Occupancy_Count  \n",
              "0         390      0.769231       0       0                     1  \n",
              "1         390      0.646154       0       0                     1  \n",
              "2         390      0.519231       0       0                     1  \n",
              "3         390      0.388462       0       0                     1  \n",
              "4         390      0.253846       0       0                     1  \n",
              "...       ...           ...     ...     ...                   ...  \n",
              "10124     345      0.000000       0       0                     0  \n",
              "10125     345      0.000000       0       0                     0  \n",
              "10126     345      0.000000       0       0                     0  \n",
              "10127     345      0.000000       0       0                     0  \n",
              "10128     345      0.000000       0       0                     0  \n",
              "\n",
              "[10129 rows x 19 columns]"
            ]
          },
          "execution_count": 121,
          "metadata": {},
          "output_type": "execute_result"
        }
      ],
      "source": [
        "df = pd.read_csv('data/database.csv', sep=',')\n",
        "df"
      ]
    },
    {
      "cell_type": "markdown",
      "metadata": {
        "id": "WeoE4JE7ntzK"
      },
      "source": [
        "Let's check for the properties of our dataset to better know the data we currently have."
      ]
    },
    {
      "cell_type": "code",
      "execution_count": 122,
      "metadata": {
        "colab": {
          "base_uri": "https://localhost:8080/",
          "height": 364
        },
        "id": "rAf6mrYon5MD",
        "outputId": "5dbe1bbb-28b8-479a-ce43-3c04086f7dcd"
      },
      "outputs": [
        {
          "data": {
            "text/html": [
              "<div>\n",
              "<style scoped>\n",
              "    .dataframe tbody tr th:only-of-type {\n",
              "        vertical-align: middle;\n",
              "    }\n",
              "\n",
              "    .dataframe tbody tr th {\n",
              "        vertical-align: top;\n",
              "    }\n",
              "\n",
              "    .dataframe thead th {\n",
              "        text-align: right;\n",
              "    }\n",
              "</style>\n",
              "<table border=\"1\" class=\"dataframe\">\n",
              "  <thead>\n",
              "    <tr style=\"text-align: right;\">\n",
              "      <th></th>\n",
              "      <th>S1_Temp</th>\n",
              "      <th>S2_Temp</th>\n",
              "      <th>S3_Temp</th>\n",
              "      <th>S4_Temp</th>\n",
              "      <th>S1_Light</th>\n",
              "      <th>S2_Light</th>\n",
              "      <th>S3_Light</th>\n",
              "      <th>S4_Light</th>\n",
              "      <th>S1_Sound</th>\n",
              "      <th>S2_Sound</th>\n",
              "      <th>S3_Sound</th>\n",
              "      <th>S4_Sound</th>\n",
              "      <th>S5_CO2</th>\n",
              "      <th>S5_CO2_Slope</th>\n",
              "      <th>S6_PIR</th>\n",
              "      <th>S7_PIR</th>\n",
              "      <th>Room_Occupancy_Count</th>\n",
              "    </tr>\n",
              "  </thead>\n",
              "  <tbody>\n",
              "    <tr>\n",
              "      <th>count</th>\n",
              "      <td>10129.000000</td>\n",
              "      <td>10129.000000</td>\n",
              "      <td>10129.000000</td>\n",
              "      <td>10129.000000</td>\n",
              "      <td>10129.000000</td>\n",
              "      <td>10129.00000</td>\n",
              "      <td>10129.000000</td>\n",
              "      <td>10129.000000</td>\n",
              "      <td>10129.000000</td>\n",
              "      <td>10129.000000</td>\n",
              "      <td>10129.000000</td>\n",
              "      <td>10129.000000</td>\n",
              "      <td>10129.000000</td>\n",
              "      <td>10129.000000</td>\n",
              "      <td>10129.000000</td>\n",
              "      <td>10129.000000</td>\n",
              "      <td>10129.000000</td>\n",
              "    </tr>\n",
              "    <tr>\n",
              "      <th>mean</th>\n",
              "      <td>25.454012</td>\n",
              "      <td>25.546059</td>\n",
              "      <td>25.056621</td>\n",
              "      <td>25.754125</td>\n",
              "      <td>25.445059</td>\n",
              "      <td>26.01629</td>\n",
              "      <td>34.248494</td>\n",
              "      <td>13.220259</td>\n",
              "      <td>0.168178</td>\n",
              "      <td>0.120066</td>\n",
              "      <td>0.158119</td>\n",
              "      <td>0.103840</td>\n",
              "      <td>460.860401</td>\n",
              "      <td>-0.004830</td>\n",
              "      <td>0.090137</td>\n",
              "      <td>0.079574</td>\n",
              "      <td>0.398559</td>\n",
              "    </tr>\n",
              "    <tr>\n",
              "      <th>std</th>\n",
              "      <td>0.351351</td>\n",
              "      <td>0.586325</td>\n",
              "      <td>0.427283</td>\n",
              "      <td>0.356434</td>\n",
              "      <td>51.011264</td>\n",
              "      <td>67.30417</td>\n",
              "      <td>58.400744</td>\n",
              "      <td>19.602219</td>\n",
              "      <td>0.316709</td>\n",
              "      <td>0.266503</td>\n",
              "      <td>0.413637</td>\n",
              "      <td>0.120683</td>\n",
              "      <td>199.964940</td>\n",
              "      <td>1.164990</td>\n",
              "      <td>0.286392</td>\n",
              "      <td>0.270645</td>\n",
              "      <td>0.893633</td>\n",
              "    </tr>\n",
              "    <tr>\n",
              "      <th>min</th>\n",
              "      <td>24.940000</td>\n",
              "      <td>24.750000</td>\n",
              "      <td>24.440000</td>\n",
              "      <td>24.940000</td>\n",
              "      <td>0.000000</td>\n",
              "      <td>0.00000</td>\n",
              "      <td>0.000000</td>\n",
              "      <td>0.000000</td>\n",
              "      <td>0.060000</td>\n",
              "      <td>0.040000</td>\n",
              "      <td>0.040000</td>\n",
              "      <td>0.050000</td>\n",
              "      <td>345.000000</td>\n",
              "      <td>-6.296154</td>\n",
              "      <td>0.000000</td>\n",
              "      <td>0.000000</td>\n",
              "      <td>0.000000</td>\n",
              "    </tr>\n",
              "    <tr>\n",
              "      <th>25%</th>\n",
              "      <td>25.190000</td>\n",
              "      <td>25.190000</td>\n",
              "      <td>24.690000</td>\n",
              "      <td>25.440000</td>\n",
              "      <td>0.000000</td>\n",
              "      <td>0.00000</td>\n",
              "      <td>0.000000</td>\n",
              "      <td>0.000000</td>\n",
              "      <td>0.070000</td>\n",
              "      <td>0.050000</td>\n",
              "      <td>0.060000</td>\n",
              "      <td>0.060000</td>\n",
              "      <td>355.000000</td>\n",
              "      <td>-0.046154</td>\n",
              "      <td>0.000000</td>\n",
              "      <td>0.000000</td>\n",
              "      <td>0.000000</td>\n",
              "    </tr>\n",
              "    <tr>\n",
              "      <th>50%</th>\n",
              "      <td>25.380000</td>\n",
              "      <td>25.380000</td>\n",
              "      <td>24.940000</td>\n",
              "      <td>25.750000</td>\n",
              "      <td>0.000000</td>\n",
              "      <td>0.00000</td>\n",
              "      <td>0.000000</td>\n",
              "      <td>0.000000</td>\n",
              "      <td>0.080000</td>\n",
              "      <td>0.050000</td>\n",
              "      <td>0.060000</td>\n",
              "      <td>0.080000</td>\n",
              "      <td>360.000000</td>\n",
              "      <td>0.000000</td>\n",
              "      <td>0.000000</td>\n",
              "      <td>0.000000</td>\n",
              "      <td>0.000000</td>\n",
              "    </tr>\n",
              "    <tr>\n",
              "      <th>75%</th>\n",
              "      <td>25.630000</td>\n",
              "      <td>25.630000</td>\n",
              "      <td>25.380000</td>\n",
              "      <td>26.000000</td>\n",
              "      <td>12.000000</td>\n",
              "      <td>14.00000</td>\n",
              "      <td>50.000000</td>\n",
              "      <td>22.000000</td>\n",
              "      <td>0.080000</td>\n",
              "      <td>0.060000</td>\n",
              "      <td>0.070000</td>\n",
              "      <td>0.100000</td>\n",
              "      <td>465.000000</td>\n",
              "      <td>0.000000</td>\n",
              "      <td>0.000000</td>\n",
              "      <td>0.000000</td>\n",
              "      <td>0.000000</td>\n",
              "    </tr>\n",
              "    <tr>\n",
              "      <th>max</th>\n",
              "      <td>26.380000</td>\n",
              "      <td>29.000000</td>\n",
              "      <td>26.190000</td>\n",
              "      <td>26.560000</td>\n",
              "      <td>165.000000</td>\n",
              "      <td>258.00000</td>\n",
              "      <td>280.000000</td>\n",
              "      <td>74.000000</td>\n",
              "      <td>3.880000</td>\n",
              "      <td>3.440000</td>\n",
              "      <td>3.670000</td>\n",
              "      <td>3.400000</td>\n",
              "      <td>1270.000000</td>\n",
              "      <td>8.980769</td>\n",
              "      <td>1.000000</td>\n",
              "      <td>1.000000</td>\n",
              "      <td>3.000000</td>\n",
              "    </tr>\n",
              "  </tbody>\n",
              "</table>\n",
              "</div>"
            ],
            "text/plain": [
              "            S1_Temp       S2_Temp       S3_Temp       S4_Temp      S1_Light  \\\n",
              "count  10129.000000  10129.000000  10129.000000  10129.000000  10129.000000   \n",
              "mean      25.454012     25.546059     25.056621     25.754125     25.445059   \n",
              "std        0.351351      0.586325      0.427283      0.356434     51.011264   \n",
              "min       24.940000     24.750000     24.440000     24.940000      0.000000   \n",
              "25%       25.190000     25.190000     24.690000     25.440000      0.000000   \n",
              "50%       25.380000     25.380000     24.940000     25.750000      0.000000   \n",
              "75%       25.630000     25.630000     25.380000     26.000000     12.000000   \n",
              "max       26.380000     29.000000     26.190000     26.560000    165.000000   \n",
              "\n",
              "          S2_Light      S3_Light      S4_Light      S1_Sound      S2_Sound  \\\n",
              "count  10129.00000  10129.000000  10129.000000  10129.000000  10129.000000   \n",
              "mean      26.01629     34.248494     13.220259      0.168178      0.120066   \n",
              "std       67.30417     58.400744     19.602219      0.316709      0.266503   \n",
              "min        0.00000      0.000000      0.000000      0.060000      0.040000   \n",
              "25%        0.00000      0.000000      0.000000      0.070000      0.050000   \n",
              "50%        0.00000      0.000000      0.000000      0.080000      0.050000   \n",
              "75%       14.00000     50.000000     22.000000      0.080000      0.060000   \n",
              "max      258.00000    280.000000     74.000000      3.880000      3.440000   \n",
              "\n",
              "           S3_Sound      S4_Sound        S5_CO2  S5_CO2_Slope        S6_PIR  \\\n",
              "count  10129.000000  10129.000000  10129.000000  10129.000000  10129.000000   \n",
              "mean       0.158119      0.103840    460.860401     -0.004830      0.090137   \n",
              "std        0.413637      0.120683    199.964940      1.164990      0.286392   \n",
              "min        0.040000      0.050000    345.000000     -6.296154      0.000000   \n",
              "25%        0.060000      0.060000    355.000000     -0.046154      0.000000   \n",
              "50%        0.060000      0.080000    360.000000      0.000000      0.000000   \n",
              "75%        0.070000      0.100000    465.000000      0.000000      0.000000   \n",
              "max        3.670000      3.400000   1270.000000      8.980769      1.000000   \n",
              "\n",
              "             S7_PIR  Room_Occupancy_Count  \n",
              "count  10129.000000          10129.000000  \n",
              "mean       0.079574              0.398559  \n",
              "std        0.270645              0.893633  \n",
              "min        0.000000              0.000000  \n",
              "25%        0.000000              0.000000  \n",
              "50%        0.000000              0.000000  \n",
              "75%        0.000000              0.000000  \n",
              "max        1.000000              3.000000  "
            ]
          },
          "execution_count": 122,
          "metadata": {},
          "output_type": "execute_result"
        }
      ],
      "source": [
        "df.describe()"
      ]
    },
    {
      "cell_type": "markdown",
      "metadata": {
        "id": "4CjvxkE5oZGn"
      },
      "source": [
        "The mean of our column labeled \"Room Occupancy Count\" is looking a bit weird. Its values should vary between 0 and 3, so the mean shouldn't be so close to 0 unless there are many more rows with a zero compared to the the other possible numbers. Let's look at it.\n"
      ]
    },
    {
      "cell_type": "code",
      "execution_count": 123,
      "metadata": {
        "colab": {
          "base_uri": "https://localhost:8080/"
        },
        "id": "PaW62cqmo3zV",
        "outputId": "df3bdd5f-42b6-41f1-bb7a-75acc4de8d43"
      },
      "outputs": [
        {
          "data": {
            "text/plain": [
              "0    8228\n",
              "2     748\n",
              "3     694\n",
              "1     459\n",
              "Name: Room_Occupancy_Count, dtype: int64"
            ]
          },
          "execution_count": 123,
          "metadata": {},
          "output_type": "execute_result"
        }
      ],
      "source": [
        "df.Room_Occupancy_Count.value_counts()"
      ]
    },
    {
      "cell_type": "markdown",
      "metadata": {
        "id": "6qS2Sdk7pCyb"
      },
      "source": [
        "As expected, the number of zeros is way bigger than the rest. Taking a look at the data, we can see that it is mostly related to non-work hours, specially late at night. There's also the days 24/12 and 25/12, which are holidays and, as such, have an empty environment leading to more data with zero as the occupancy count. We will take all of these out and see how it affects the data."
      ]
    },
    {
      "cell_type": "code",
      "execution_count": 124,
      "metadata": {
        "colab": {
          "base_uri": "https://localhost:8080/",
          "height": 592
        },
        "id": "U7AM6YDtqXFY",
        "outputId": "cb79c0c1-8de5-45d5-a700-194d6343401d"
      },
      "outputs": [
        {
          "data": {
            "text/html": [
              "<div>\n",
              "<style scoped>\n",
              "    .dataframe tbody tr th:only-of-type {\n",
              "        vertical-align: middle;\n",
              "    }\n",
              "\n",
              "    .dataframe tbody tr th {\n",
              "        vertical-align: top;\n",
              "    }\n",
              "\n",
              "    .dataframe thead th {\n",
              "        text-align: right;\n",
              "    }\n",
              "</style>\n",
              "<table border=\"1\" class=\"dataframe\">\n",
              "  <thead>\n",
              "    <tr style=\"text-align: right;\">\n",
              "      <th></th>\n",
              "      <th>Date</th>\n",
              "      <th>Time</th>\n",
              "      <th>S1_Temp</th>\n",
              "      <th>S2_Temp</th>\n",
              "      <th>S3_Temp</th>\n",
              "      <th>S4_Temp</th>\n",
              "      <th>S1_Light</th>\n",
              "      <th>S2_Light</th>\n",
              "      <th>S3_Light</th>\n",
              "      <th>S4_Light</th>\n",
              "      <th>S1_Sound</th>\n",
              "      <th>S2_Sound</th>\n",
              "      <th>S3_Sound</th>\n",
              "      <th>S4_Sound</th>\n",
              "      <th>S5_CO2</th>\n",
              "      <th>S5_CO2_Slope</th>\n",
              "      <th>S6_PIR</th>\n",
              "      <th>S7_PIR</th>\n",
              "      <th>Room_Occupancy_Count</th>\n",
              "    </tr>\n",
              "  </thead>\n",
              "  <tbody>\n",
              "    <tr>\n",
              "      <th>0</th>\n",
              "      <td>2017/12/22</td>\n",
              "      <td>10:49:41</td>\n",
              "      <td>24.94</td>\n",
              "      <td>24.75</td>\n",
              "      <td>24.56</td>\n",
              "      <td>25.38</td>\n",
              "      <td>121</td>\n",
              "      <td>34</td>\n",
              "      <td>53</td>\n",
              "      <td>40</td>\n",
              "      <td>0.08</td>\n",
              "      <td>0.19</td>\n",
              "      <td>0.06</td>\n",
              "      <td>0.06</td>\n",
              "      <td>390</td>\n",
              "      <td>0.769</td>\n",
              "      <td>0</td>\n",
              "      <td>0</td>\n",
              "      <td>1</td>\n",
              "    </tr>\n",
              "    <tr>\n",
              "      <th>1</th>\n",
              "      <td>2017/12/22</td>\n",
              "      <td>10:50:12</td>\n",
              "      <td>24.94</td>\n",
              "      <td>24.75</td>\n",
              "      <td>24.56</td>\n",
              "      <td>25.44</td>\n",
              "      <td>121</td>\n",
              "      <td>33</td>\n",
              "      <td>53</td>\n",
              "      <td>40</td>\n",
              "      <td>0.93</td>\n",
              "      <td>0.05</td>\n",
              "      <td>0.06</td>\n",
              "      <td>0.06</td>\n",
              "      <td>390</td>\n",
              "      <td>0.646</td>\n",
              "      <td>0</td>\n",
              "      <td>0</td>\n",
              "      <td>1</td>\n",
              "    </tr>\n",
              "    <tr>\n",
              "      <th>2</th>\n",
              "      <td>2017/12/22</td>\n",
              "      <td>10:50:42</td>\n",
              "      <td>25.00</td>\n",
              "      <td>24.75</td>\n",
              "      <td>24.50</td>\n",
              "      <td>25.44</td>\n",
              "      <td>121</td>\n",
              "      <td>34</td>\n",
              "      <td>53</td>\n",
              "      <td>40</td>\n",
              "      <td>0.43</td>\n",
              "      <td>0.11</td>\n",
              "      <td>0.08</td>\n",
              "      <td>0.06</td>\n",
              "      <td>390</td>\n",
              "      <td>0.519</td>\n",
              "      <td>0</td>\n",
              "      <td>0</td>\n",
              "      <td>1</td>\n",
              "    </tr>\n",
              "    <tr>\n",
              "      <th>3</th>\n",
              "      <td>2017/12/22</td>\n",
              "      <td>10:51:13</td>\n",
              "      <td>25.00</td>\n",
              "      <td>24.75</td>\n",
              "      <td>24.56</td>\n",
              "      <td>25.44</td>\n",
              "      <td>121</td>\n",
              "      <td>34</td>\n",
              "      <td>53</td>\n",
              "      <td>40</td>\n",
              "      <td>0.41</td>\n",
              "      <td>0.10</td>\n",
              "      <td>0.10</td>\n",
              "      <td>0.09</td>\n",
              "      <td>390</td>\n",
              "      <td>0.388</td>\n",
              "      <td>0</td>\n",
              "      <td>0</td>\n",
              "      <td>1</td>\n",
              "    </tr>\n",
              "    <tr>\n",
              "      <th>4</th>\n",
              "      <td>2017/12/22</td>\n",
              "      <td>10:51:44</td>\n",
              "      <td>25.00</td>\n",
              "      <td>24.75</td>\n",
              "      <td>24.56</td>\n",
              "      <td>25.44</td>\n",
              "      <td>121</td>\n",
              "      <td>34</td>\n",
              "      <td>54</td>\n",
              "      <td>40</td>\n",
              "      <td>0.18</td>\n",
              "      <td>0.06</td>\n",
              "      <td>0.06</td>\n",
              "      <td>0.06</td>\n",
              "      <td>390</td>\n",
              "      <td>0.254</td>\n",
              "      <td>0</td>\n",
              "      <td>0</td>\n",
              "      <td>1</td>\n",
              "    </tr>\n",
              "    <tr>\n",
              "      <th>...</th>\n",
              "      <td>...</td>\n",
              "      <td>...</td>\n",
              "      <td>...</td>\n",
              "      <td>...</td>\n",
              "      <td>...</td>\n",
              "      <td>...</td>\n",
              "      <td>...</td>\n",
              "      <td>...</td>\n",
              "      <td>...</td>\n",
              "      <td>...</td>\n",
              "      <td>...</td>\n",
              "      <td>...</td>\n",
              "      <td>...</td>\n",
              "      <td>...</td>\n",
              "      <td>...</td>\n",
              "      <td>...</td>\n",
              "      <td>...</td>\n",
              "      <td>...</td>\n",
              "      <td>...</td>\n",
              "    </tr>\n",
              "    <tr>\n",
              "      <th>2449</th>\n",
              "      <td>2018/01/10</td>\n",
              "      <td>19:57:57</td>\n",
              "      <td>25.56</td>\n",
              "      <td>25.50</td>\n",
              "      <td>25.19</td>\n",
              "      <td>25.63</td>\n",
              "      <td>0</td>\n",
              "      <td>0</td>\n",
              "      <td>0</td>\n",
              "      <td>0</td>\n",
              "      <td>0.07</td>\n",
              "      <td>0.05</td>\n",
              "      <td>0.05</td>\n",
              "      <td>0.09</td>\n",
              "      <td>435</td>\n",
              "      <td>-2.050</td>\n",
              "      <td>0</td>\n",
              "      <td>0</td>\n",
              "      <td>0</td>\n",
              "    </tr>\n",
              "    <tr>\n",
              "      <th>2450</th>\n",
              "      <td>2018/01/10</td>\n",
              "      <td>19:58:27</td>\n",
              "      <td>25.56</td>\n",
              "      <td>25.50</td>\n",
              "      <td>25.19</td>\n",
              "      <td>25.63</td>\n",
              "      <td>0</td>\n",
              "      <td>0</td>\n",
              "      <td>0</td>\n",
              "      <td>0</td>\n",
              "      <td>0.07</td>\n",
              "      <td>0.04</td>\n",
              "      <td>0.05</td>\n",
              "      <td>0.09</td>\n",
              "      <td>430</td>\n",
              "      <td>-2.192</td>\n",
              "      <td>0</td>\n",
              "      <td>0</td>\n",
              "      <td>0</td>\n",
              "    </tr>\n",
              "    <tr>\n",
              "      <th>2451</th>\n",
              "      <td>2018/01/10</td>\n",
              "      <td>19:58:58</td>\n",
              "      <td>25.56</td>\n",
              "      <td>25.50</td>\n",
              "      <td>25.19</td>\n",
              "      <td>25.63</td>\n",
              "      <td>0</td>\n",
              "      <td>0</td>\n",
              "      <td>0</td>\n",
              "      <td>0</td>\n",
              "      <td>0.07</td>\n",
              "      <td>0.05</td>\n",
              "      <td>0.06</td>\n",
              "      <td>0.09</td>\n",
              "      <td>435</td>\n",
              "      <td>-2.154</td>\n",
              "      <td>0</td>\n",
              "      <td>0</td>\n",
              "      <td>0</td>\n",
              "    </tr>\n",
              "    <tr>\n",
              "      <th>2452</th>\n",
              "      <td>2018/01/10</td>\n",
              "      <td>19:59:28</td>\n",
              "      <td>25.50</td>\n",
              "      <td>25.50</td>\n",
              "      <td>25.19</td>\n",
              "      <td>25.63</td>\n",
              "      <td>0</td>\n",
              "      <td>0</td>\n",
              "      <td>0</td>\n",
              "      <td>0</td>\n",
              "      <td>0.07</td>\n",
              "      <td>0.05</td>\n",
              "      <td>0.05</td>\n",
              "      <td>0.09</td>\n",
              "      <td>435</td>\n",
              "      <td>-2.127</td>\n",
              "      <td>0</td>\n",
              "      <td>0</td>\n",
              "      <td>0</td>\n",
              "    </tr>\n",
              "    <tr>\n",
              "      <th>2453</th>\n",
              "      <td>2018/01/10</td>\n",
              "      <td>19:59:59</td>\n",
              "      <td>25.50</td>\n",
              "      <td>25.50</td>\n",
              "      <td>25.19</td>\n",
              "      <td>25.56</td>\n",
              "      <td>0</td>\n",
              "      <td>0</td>\n",
              "      <td>0</td>\n",
              "      <td>0</td>\n",
              "      <td>0.07</td>\n",
              "      <td>0.05</td>\n",
              "      <td>0.05</td>\n",
              "      <td>0.09</td>\n",
              "      <td>430</td>\n",
              "      <td>-2.112</td>\n",
              "      <td>0</td>\n",
              "      <td>0</td>\n",
              "      <td>0</td>\n",
              "    </tr>\n",
              "  </tbody>\n",
              "</table>\n",
              "<p>2454 rows × 19 columns</p>\n",
              "</div>"
            ],
            "text/plain": [
              "            Date      Time  S1_Temp  S2_Temp  S3_Temp  S4_Temp  S1_Light  \\\n",
              "0     2017/12/22  10:49:41    24.94    24.75    24.56    25.38       121   \n",
              "1     2017/12/22  10:50:12    24.94    24.75    24.56    25.44       121   \n",
              "2     2017/12/22  10:50:42    25.00    24.75    24.50    25.44       121   \n",
              "3     2017/12/22  10:51:13    25.00    24.75    24.56    25.44       121   \n",
              "4     2017/12/22  10:51:44    25.00    24.75    24.56    25.44       121   \n",
              "...          ...       ...      ...      ...      ...      ...       ...   \n",
              "2449  2018/01/10  19:57:57    25.56    25.50    25.19    25.63         0   \n",
              "2450  2018/01/10  19:58:27    25.56    25.50    25.19    25.63         0   \n",
              "2451  2018/01/10  19:58:58    25.56    25.50    25.19    25.63         0   \n",
              "2452  2018/01/10  19:59:28    25.50    25.50    25.19    25.63         0   \n",
              "2453  2018/01/10  19:59:59    25.50    25.50    25.19    25.56         0   \n",
              "\n",
              "      S2_Light  S3_Light  S4_Light  S1_Sound  S2_Sound  S3_Sound  S4_Sound  \\\n",
              "0           34        53        40      0.08      0.19      0.06      0.06   \n",
              "1           33        53        40      0.93      0.05      0.06      0.06   \n",
              "2           34        53        40      0.43      0.11      0.08      0.06   \n",
              "3           34        53        40      0.41      0.10      0.10      0.09   \n",
              "4           34        54        40      0.18      0.06      0.06      0.06   \n",
              "...        ...       ...       ...       ...       ...       ...       ...   \n",
              "2449         0         0         0      0.07      0.05      0.05      0.09   \n",
              "2450         0         0         0      0.07      0.04      0.05      0.09   \n",
              "2451         0         0         0      0.07      0.05      0.06      0.09   \n",
              "2452         0         0         0      0.07      0.05      0.05      0.09   \n",
              "2453         0         0         0      0.07      0.05      0.05      0.09   \n",
              "\n",
              "      S5_CO2  S5_CO2_Slope  S6_PIR  S7_PIR  Room_Occupancy_Count  \n",
              "0        390         0.769       0       0                     1  \n",
              "1        390         0.646       0       0                     1  \n",
              "2        390         0.519       0       0                     1  \n",
              "3        390         0.388       0       0                     1  \n",
              "4        390         0.254       0       0                     1  \n",
              "...      ...           ...     ...     ...                   ...  \n",
              "2449     435        -2.050       0       0                     0  \n",
              "2450     430        -2.192       0       0                     0  \n",
              "2451     435        -2.154       0       0                     0  \n",
              "2452     435        -2.127       0       0                     0  \n",
              "2453     430        -2.112       0       0                     0  \n",
              "\n",
              "[2454 rows x 19 columns]"
            ]
          },
          "execution_count": 124,
          "metadata": {},
          "output_type": "execute_result"
        }
      ],
      "source": [
        "# Taking out the excessive amounts of zero with times and dates that provide similar data, and making sure indexing remains correct\n",
        "df_balanced = df.loc[((df.Time > '10:00:00') & (df.Time < '20:00:00') & \\\n",
        "                     ((df.Time < '14:20:00') | (df.Time > '15:20:00')) & \\\n",
        "                     (df.Date != '2017/12/24') & (df.Date != '2017/12/25'))].reset_index(drop=1)\n",
        "\n",
        "# Round the slope\n",
        "df_balanced['S5_CO2_Slope'] = df_balanced['S5_CO2_Slope'].round(3)\n",
        "\n",
        "df_balanced"
      ]
    },
    {
      "cell_type": "markdown",
      "metadata": {
        "id": "-y9pFkZyrFeE"
      },
      "source": [
        "Let's see if our data seems more balanced this time."
      ]
    },
    {
      "cell_type": "code",
      "execution_count": 125,
      "metadata": {
        "colab": {
          "base_uri": "https://localhost:8080/"
        },
        "id": "ymlgK3amrImR",
        "outputId": "a1e818f0-7b5e-4264-d697-d9a577b2a1d3"
      },
      "outputs": [
        {
          "data": {
            "text/plain": [
              "2    748\n",
              "3    694\n",
              "0    553\n",
              "1    459\n",
              "Name: Room_Occupancy_Count, dtype: int64"
            ]
          },
          "execution_count": 125,
          "metadata": {},
          "output_type": "execute_result"
        }
      ],
      "source": [
        "df_balanced.Room_Occupancy_Count.value_counts()"
      ]
    },
    {
      "cell_type": "markdown",
      "metadata": {
        "id": "IdoXpBbMrM2F"
      },
      "source": [
        "Yes, it does! Now, before trying to change the data any further, we will try to train a model so we can see how well it will perform as of now. We won't consider the date and time columns as they shouldn't be important to decide whether there are people in the room or not."
      ]
    },
    {
      "cell_type": "markdown",
      "metadata": {
        "id": "Yz2RGh6E3FqT"
      },
      "source": [
        "It is important to say that any Naive Bayes uses the idea that the variables used to predict the classes are independent one from the other. Because of that, we will also drop the CO2 column to keep the CO2 slope, since they're closely related. Also, because we are using the Gaussian Naive Bayes, we will be taking off the PIR values as they're binary, not continuous."
      ]
    },
    {
      "cell_type": "code",
      "execution_count": 126,
      "metadata": {
        "id": "Q3bgvaM9rhOb"
      },
      "outputs": [],
      "source": [
        "from sklearn.model_selection import train_test_split\n",
        "from sklearn.naive_bayes import GaussianNB\n",
        "from sklearn import metrics"
      ]
    },
    {
      "cell_type": "code",
      "execution_count": 127,
      "metadata": {
        "id": "c5oROSiJr3ur"
      },
      "outputs": [],
      "source": [
        "# Split the data into testing and validation\n",
        "X = df_balanced.drop(['Room_Occupancy_Count', 'Time', 'Date', 'S5_CO2', 'S6_PIR', 'S7_PIR'], axis=1)\n",
        "y = df_balanced['Room_Occupancy_Count']\n",
        "X_train, X_test, y_train, y_test = train_test_split(X, y, test_size = 0.3, random_state = 109)"
      ]
    },
    {
      "cell_type": "code",
      "execution_count": 128,
      "metadata": {
        "id": "r5NTXppGr-VR"
      },
      "outputs": [],
      "source": [
        "# Train a Gaussian Naive Bayes model \n",
        "gnb = GaussianNB()\n",
        "gnb.fit(X_train, y_train)\n",
        "y_pred = gnb.predict(X_test)"
      ]
    },
    {
      "cell_type": "code",
      "execution_count": 129,
      "metadata": {
        "colab": {
          "base_uri": "https://localhost:8080/"
        },
        "id": "VgeH-0ESsAnm",
        "outputId": "4870edf8-3ae4-432a-c4dd-3985dbbfcd88"
      },
      "outputs": [
        {
          "name": "stdout",
          "output_type": "stream",
          "text": [
            "Accuracy: 0.8548168249660787\n"
          ]
        }
      ],
      "source": [
        "# Obtain accuracy of the model\n",
        "print(\"Accuracy:\",metrics.accuracy_score(y_test, y_pred))"
      ]
    },
    {
      "cell_type": "code",
      "execution_count": 130,
      "metadata": {
        "colab": {
          "base_uri": "https://localhost:8080/"
        },
        "id": "gJjLtLIbsB8R",
        "outputId": "668b62ce-a1fa-491a-9a92-7278b5418823"
      },
      "outputs": [
        {
          "name": "stdout",
          "output_type": "stream",
          "text": [
            "Training set score: 0.8433\n",
            "Test set score: 0.8548\n"
          ]
        }
      ],
      "source": [
        "# Compare the scores between each set to check for overfitting/underfitting\n",
        "print('Training set score: {:.4f}'.format(gnb.score(X_train, y_train)))\n",
        "print('Test set score: {:.4f}'.format(gnb.score(X_test, y_test)))"
      ]
    },
    {
      "cell_type": "code",
      "execution_count": 131,
      "metadata": {
        "colab": {
          "base_uri": "https://localhost:8080/",
          "height": 334
        },
        "id": "DBGldqr5sFI8",
        "outputId": "245b042a-6c21-42c7-976a-d2d178965597"
      },
      "outputs": [
        {
          "name": "stderr",
          "output_type": "stream",
          "text": [
            "/home/murilobn/.local/lib/python3.10/site-packages/sklearn/utils/deprecation.py:87: FutureWarning: Function plot_confusion_matrix is deprecated; Function `plot_confusion_matrix` is deprecated in 1.0 and will be removed in 1.2. Use one of the class methods: ConfusionMatrixDisplay.from_predictions or ConfusionMatrixDisplay.from_estimator.\n",
            "  warnings.warn(msg, category=FutureWarning)\n"
          ]
        },
        {
          "data": {
            "image/png": "[encoded data removed]",
            "text/plain": [
              "<Figure size 432x288 with 2 Axes>"
            ]
          },
          "metadata": {
            "needs_background": "light"
          },
          "output_type": "display_data"
        }
      ],
      "source": [
        "# Better visualize how the model is performing through a confusion matrix\n",
        "import matplotlib.pyplot as plt\n",
        "from sklearn.metrics import plot_confusion_matrix\n",
        "\n",
        "plot_confusion_matrix(gnb, X_test, y_test)\n",
        "plt.savefig('models/5.png')\n",
        "plt.show()"
      ]
    },
    {
      "cell_type": "markdown",
      "metadata": {
        "id": "Qv2NIwrVszT3"
      },
      "source": [
        "The accuracy is great and it doesn't look to have any signs of overfitting. To be honest, it looks a little too good to be true, so let's change the data a little to look for what the model was able to learn that made it look so good. For that, we will take the average of the sensors, excluding light, and see if the average room temperature or the average sound in the room changes anything for the model compared to the previous attempt. "
      ]
    },
    {
      "cell_type": "code",
      "execution_count": 132,
      "metadata": {
        "colab": {
          "base_uri": "https://localhost:8080/",
          "height": 424
        },
        "id": "1AqMdZCltw6V",
        "outputId": "a7ab367a-aac3-4a8c-8808-ec0a7464c71d"
      },
      "outputs": [
        {
          "data": {
            "text/html": [
              "<div>\n",
              "<style scoped>\n",
              "    .dataframe tbody tr th:only-of-type {\n",
              "        vertical-align: middle;\n",
              "    }\n",
              "\n",
              "    .dataframe tbody tr th {\n",
              "        vertical-align: top;\n",
              "    }\n",
              "\n",
              "    .dataframe thead th {\n",
              "        text-align: right;\n",
              "    }\n",
              "</style>\n",
              "<table border=\"1\" class=\"dataframe\">\n",
              "  <thead>\n",
              "    <tr style=\"text-align: right;\">\n",
              "      <th></th>\n",
              "      <th>Avg_Temp</th>\n",
              "      <th>S1_Light</th>\n",
              "      <th>S2_Light</th>\n",
              "      <th>S3_Light</th>\n",
              "      <th>S4_Light</th>\n",
              "      <th>Avg_Sound</th>\n",
              "      <th>S5_CO2_Slope</th>\n",
              "      <th>Room_Occupancy_Count</th>\n",
              "    </tr>\n",
              "  </thead>\n",
              "  <tbody>\n",
              "    <tr>\n",
              "      <th>0</th>\n",
              "      <td>24.908</td>\n",
              "      <td>121</td>\n",
              "      <td>34</td>\n",
              "      <td>53</td>\n",
              "      <td>40</td>\n",
              "      <td>0.086</td>\n",
              "      <td>0.769</td>\n",
              "      <td>1</td>\n",
              "    </tr>\n",
              "    <tr>\n",
              "      <th>1</th>\n",
              "      <td>24.922</td>\n",
              "      <td>121</td>\n",
              "      <td>33</td>\n",
              "      <td>53</td>\n",
              "      <td>40</td>\n",
              "      <td>0.114</td>\n",
              "      <td>0.646</td>\n",
              "      <td>1</td>\n",
              "    </tr>\n",
              "    <tr>\n",
              "      <th>2</th>\n",
              "      <td>24.922</td>\n",
              "      <td>121</td>\n",
              "      <td>34</td>\n",
              "      <td>53</td>\n",
              "      <td>40</td>\n",
              "      <td>0.123</td>\n",
              "      <td>0.519</td>\n",
              "      <td>1</td>\n",
              "    </tr>\n",
              "    <tr>\n",
              "      <th>3</th>\n",
              "      <td>24.938</td>\n",
              "      <td>121</td>\n",
              "      <td>34</td>\n",
              "      <td>53</td>\n",
              "      <td>40</td>\n",
              "      <td>0.139</td>\n",
              "      <td>0.388</td>\n",
              "      <td>1</td>\n",
              "    </tr>\n",
              "    <tr>\n",
              "      <th>4</th>\n",
              "      <td>24.938</td>\n",
              "      <td>121</td>\n",
              "      <td>34</td>\n",
              "      <td>54</td>\n",
              "      <td>40</td>\n",
              "      <td>0.079</td>\n",
              "      <td>0.254</td>\n",
              "      <td>1</td>\n",
              "    </tr>\n",
              "    <tr>\n",
              "      <th>...</th>\n",
              "      <td>...</td>\n",
              "      <td>...</td>\n",
              "      <td>...</td>\n",
              "      <td>...</td>\n",
              "      <td>...</td>\n",
              "      <td>...</td>\n",
              "      <td>...</td>\n",
              "      <td>...</td>\n",
              "    </tr>\n",
              "    <tr>\n",
              "      <th>2449</th>\n",
              "      <td>25.470</td>\n",
              "      <td>0</td>\n",
              "      <td>0</td>\n",
              "      <td>0</td>\n",
              "      <td>0</td>\n",
              "      <td>0.063</td>\n",
              "      <td>-2.050</td>\n",
              "      <td>0</td>\n",
              "    </tr>\n",
              "    <tr>\n",
              "      <th>2450</th>\n",
              "      <td>25.470</td>\n",
              "      <td>0</td>\n",
              "      <td>0</td>\n",
              "      <td>0</td>\n",
              "      <td>0</td>\n",
              "      <td>0.060</td>\n",
              "      <td>-2.192</td>\n",
              "      <td>0</td>\n",
              "    </tr>\n",
              "    <tr>\n",
              "      <th>2451</th>\n",
              "      <td>25.470</td>\n",
              "      <td>0</td>\n",
              "      <td>0</td>\n",
              "      <td>0</td>\n",
              "      <td>0</td>\n",
              "      <td>0.066</td>\n",
              "      <td>-2.154</td>\n",
              "      <td>0</td>\n",
              "    </tr>\n",
              "    <tr>\n",
              "      <th>2452</th>\n",
              "      <td>25.455</td>\n",
              "      <td>0</td>\n",
              "      <td>0</td>\n",
              "      <td>0</td>\n",
              "      <td>0</td>\n",
              "      <td>0.063</td>\n",
              "      <td>-2.127</td>\n",
              "      <td>0</td>\n",
              "    </tr>\n",
              "    <tr>\n",
              "      <th>2453</th>\n",
              "      <td>25.438</td>\n",
              "      <td>0</td>\n",
              "      <td>0</td>\n",
              "      <td>0</td>\n",
              "      <td>0</td>\n",
              "      <td>0.063</td>\n",
              "      <td>-2.112</td>\n",
              "      <td>0</td>\n",
              "    </tr>\n",
              "  </tbody>\n",
              "</table>\n",
              "<p>2454 rows × 8 columns</p>\n",
              "</div>"
            ],
            "text/plain": [
              "      Avg_Temp  S1_Light  S2_Light  S3_Light  S4_Light  Avg_Sound  \\\n",
              "0       24.908       121        34        53        40      0.086   \n",
              "1       24.922       121        33        53        40      0.114   \n",
              "2       24.922       121        34        53        40      0.123   \n",
              "3       24.938       121        34        53        40      0.139   \n",
              "4       24.938       121        34        54        40      0.079   \n",
              "...        ...       ...       ...       ...       ...        ...   \n",
              "2449    25.470         0         0         0         0      0.063   \n",
              "2450    25.470         0         0         0         0      0.060   \n",
              "2451    25.470         0         0         0         0      0.066   \n",
              "2452    25.455         0         0         0         0      0.063   \n",
              "2453    25.438         0         0         0         0      0.063   \n",
              "\n",
              "      S5_CO2_Slope  Room_Occupancy_Count  \n",
              "0            0.769                     1  \n",
              "1            0.646                     1  \n",
              "2            0.519                     1  \n",
              "3            0.388                     1  \n",
              "4            0.254                     1  \n",
              "...            ...                   ...  \n",
              "2449        -2.050                     0  \n",
              "2450        -2.192                     0  \n",
              "2451        -2.154                     0  \n",
              "2452        -2.127                     0  \n",
              "2453        -2.112                     0  \n",
              "\n",
              "[2454 rows x 8 columns]"
            ]
          },
          "execution_count": 132,
          "metadata": {},
          "output_type": "execute_result"
        }
      ],
      "source": [
        "# Calculate averages and round values\n",
        "df_avg = df_balanced\n",
        "df_avg['S1_Temp'] = round((df_avg['S1_Temp'] + df_avg['S2_Temp'] + df_avg['S3_Temp'] + df_avg['S4_Temp'])/4, 3)\n",
        "df_avg['S1_Sound'] = round((df_avg['S1_Sound'] * df_avg['S2_Sound'] * df_avg['S3_Sound'] * df_avg['S4_Sound']) ** (1/4), 3)\n",
        "\n",
        "# Remove unneeded columns\n",
        "df_avg = df_avg.drop(labels=['Date', 'S2_Temp', 'S3_Temp', 'S4_Temp', 'S2_Sound', 'S3_Sound', 'S4_Sound', 'Time', 'S5_CO2', 'S6_PIR',\t'S7_PIR'], axis=1)\n",
        "\n",
        "# Reorganize the DataFrame after modifications\n",
        "df_avg = df_avg.rename(columns={\"S1_Temp\" : \"Avg_Temp\", \"S1_Sound\" : \"Avg_Sound\"})\n",
        "df_avg = df_avg.reset_index(drop=1)\n",
        "\n",
        "# Test print\n",
        "df_avg"
      ]
    },
    {
      "cell_type": "code",
      "execution_count": 133,
      "metadata": {
        "id": "tHt615u2umLS"
      },
      "outputs": [],
      "source": [
        "# Split the data into testing and validation\n",
        "X = df_avg.drop(['Room_Occupancy_Count'], axis=1)\n",
        "y = df_avg['Room_Occupancy_Count']\n",
        "X_train, X_test, y_train, y_test = train_test_split(X, y, test_size = 0.3, random_state = 109)"
      ]
    },
    {
      "cell_type": "code",
      "execution_count": 134,
      "metadata": {
        "id": "XayI7SPUvHAf"
      },
      "outputs": [],
      "source": [
        "# Train a Gaussian Naive Bayes model \n",
        "gnb_avg = GaussianNB()\n",
        "gnb_avg.fit(X_train, y_train)\n",
        "y_pred = gnb_avg.predict(X_test)"
      ]
    },
    {
      "cell_type": "code",
      "execution_count": 135,
      "metadata": {
        "colab": {
          "base_uri": "https://localhost:8080/"
        },
        "id": "6dv1726xvW0x",
        "outputId": "b40e3cf3-2cf5-409e-d7b7-4968e0e1ac42"
      },
      "outputs": [
        {
          "name": "stdout",
          "output_type": "stream",
          "text": [
            "Accuracy: 0.8534599728629579\n"
          ]
        }
      ],
      "source": [
        "# Obtain accuracy of the model\n",
        "print(\"Accuracy:\",metrics.accuracy_score(y_test, y_pred))"
      ]
    },
    {
      "cell_type": "code",
      "execution_count": 136,
      "metadata": {
        "colab": {
          "base_uri": "https://localhost:8080/"
        },
        "id": "1vsPurxFvba0",
        "outputId": "35b29689-fa6b-4671-97ea-51614f63f14b"
      },
      "outputs": [
        {
          "name": "stdout",
          "output_type": "stream",
          "text": [
            "Training set score: 0.8247\n",
            "Test set score: 0.8535\n"
          ]
        }
      ],
      "source": [
        "# Compare the scores between each set to check for overfitting/underfitting\n",
        "print('Training set score: {:.4f}'.format(gnb_avg.score(X_train, y_train)))\n",
        "print('Test set score: {:.4f}'.format(gnb_avg.score(X_test, y_test)))"
      ]
    },
    {
      "cell_type": "code",
      "execution_count": 137,
      "metadata": {
        "colab": {
          "base_uri": "https://localhost:8080/",
          "height": 334
        },
        "id": "PT2vh4-zvlFS",
        "outputId": "d3dd9ea8-1fa0-4c51-cb7c-f9824101abd2"
      },
      "outputs": [
        {
          "name": "stderr",
          "output_type": "stream",
          "text": [
            "/home/murilobn/.local/lib/python3.10/site-packages/sklearn/utils/deprecation.py:87: FutureWarning: Function plot_confusion_matrix is deprecated; Function `plot_confusion_matrix` is deprecated in 1.0 and will be removed in 1.2. Use one of the class methods: ConfusionMatrixDisplay.from_predictions or ConfusionMatrixDisplay.from_estimator.\n",
            "  warnings.warn(msg, category=FutureWarning)\n"
          ]
        },
        {
          "data": {
            "image/png": "[encoded data removed]",
            "text/plain": [
              "<Figure size 432x288 with 2 Axes>"
            ]
          },
          "metadata": {
            "needs_background": "light"
          },
          "output_type": "display_data"
        }
      ],
      "source": [
        "plot_confusion_matrix(gnb_avg, X_test, y_test)  \n",
        "plt.show()"
      ]
    },
    {
      "cell_type": "markdown",
      "metadata": {
        "id": "8bVFcdytvs3h"
      },
      "source": [
        "Barely anything changed, which tells us that the sensors may be pretty aligned with one another. Let's try to see if changing the way the model is dealing with the light in the room changes anything by using the total light in the room."
      ]
    },
    {
      "cell_type": "code",
      "execution_count": 138,
      "metadata": {
        "colab": {
          "base_uri": "https://localhost:8080/",
          "height": 424
        },
        "id": "brUp9NtmwNTw",
        "outputId": "43f4e192-c822-44f7-9049-3b8c552ce1b6"
      },
      "outputs": [
        {
          "data": {
            "text/html": [
              "<div>\n",
              "<style scoped>\n",
              "    .dataframe tbody tr th:only-of-type {\n",
              "        vertical-align: middle;\n",
              "    }\n",
              "\n",
              "    .dataframe tbody tr th {\n",
              "        vertical-align: top;\n",
              "    }\n",
              "\n",
              "    .dataframe thead th {\n",
              "        text-align: right;\n",
              "    }\n",
              "</style>\n",
              "<table border=\"1\" class=\"dataframe\">\n",
              "  <thead>\n",
              "    <tr style=\"text-align: right;\">\n",
              "      <th></th>\n",
              "      <th>Avg_Temp</th>\n",
              "      <th>Total_light</th>\n",
              "      <th>Avg_Sound</th>\n",
              "      <th>S5_CO2_Slope</th>\n",
              "      <th>Room_Occupancy_Count</th>\n",
              "    </tr>\n",
              "  </thead>\n",
              "  <tbody>\n",
              "    <tr>\n",
              "      <th>0</th>\n",
              "      <td>24.908</td>\n",
              "      <td>248</td>\n",
              "      <td>0.086</td>\n",
              "      <td>0.769</td>\n",
              "      <td>1</td>\n",
              "    </tr>\n",
              "    <tr>\n",
              "      <th>1</th>\n",
              "      <td>24.922</td>\n",
              "      <td>247</td>\n",
              "      <td>0.114</td>\n",
              "      <td>0.646</td>\n",
              "      <td>1</td>\n",
              "    </tr>\n",
              "    <tr>\n",
              "      <th>2</th>\n",
              "      <td>24.922</td>\n",
              "      <td>248</td>\n",
              "      <td>0.123</td>\n",
              "      <td>0.519</td>\n",
              "      <td>1</td>\n",
              "    </tr>\n",
              "    <tr>\n",
              "      <th>3</th>\n",
              "      <td>24.938</td>\n",
              "      <td>248</td>\n",
              "      <td>0.139</td>\n",
              "      <td>0.388</td>\n",
              "      <td>1</td>\n",
              "    </tr>\n",
              "    <tr>\n",
              "      <th>4</th>\n",
              "      <td>24.938</td>\n",
              "      <td>249</td>\n",
              "      <td>0.079</td>\n",
              "      <td>0.254</td>\n",
              "      <td>1</td>\n",
              "    </tr>\n",
              "    <tr>\n",
              "      <th>...</th>\n",
              "      <td>...</td>\n",
              "      <td>...</td>\n",
              "      <td>...</td>\n",
              "      <td>...</td>\n",
              "      <td>...</td>\n",
              "    </tr>\n",
              "    <tr>\n",
              "      <th>2449</th>\n",
              "      <td>25.470</td>\n",
              "      <td>0</td>\n",
              "      <td>0.063</td>\n",
              "      <td>-2.050</td>\n",
              "      <td>0</td>\n",
              "    </tr>\n",
              "    <tr>\n",
              "      <th>2450</th>\n",
              "      <td>25.470</td>\n",
              "      <td>0</td>\n",
              "      <td>0.060</td>\n",
              "      <td>-2.192</td>\n",
              "      <td>0</td>\n",
              "    </tr>\n",
              "    <tr>\n",
              "      <th>2451</th>\n",
              "      <td>25.470</td>\n",
              "      <td>0</td>\n",
              "      <td>0.066</td>\n",
              "      <td>-2.154</td>\n",
              "      <td>0</td>\n",
              "    </tr>\n",
              "    <tr>\n",
              "      <th>2452</th>\n",
              "      <td>25.455</td>\n",
              "      <td>0</td>\n",
              "      <td>0.063</td>\n",
              "      <td>-2.127</td>\n",
              "      <td>0</td>\n",
              "    </tr>\n",
              "    <tr>\n",
              "      <th>2453</th>\n",
              "      <td>25.438</td>\n",
              "      <td>0</td>\n",
              "      <td>0.063</td>\n",
              "      <td>-2.112</td>\n",
              "      <td>0</td>\n",
              "    </tr>\n",
              "  </tbody>\n",
              "</table>\n",
              "<p>2454 rows × 5 columns</p>\n",
              "</div>"
            ],
            "text/plain": [
              "      Avg_Temp  Total_light  Avg_Sound  S5_CO2_Slope  Room_Occupancy_Count\n",
              "0       24.908          248      0.086         0.769                     1\n",
              "1       24.922          247      0.114         0.646                     1\n",
              "2       24.922          248      0.123         0.519                     1\n",
              "3       24.938          248      0.139         0.388                     1\n",
              "4       24.938          249      0.079         0.254                     1\n",
              "...        ...          ...        ...           ...                   ...\n",
              "2449    25.470            0      0.063        -2.050                     0\n",
              "2450    25.470            0      0.060        -2.192                     0\n",
              "2451    25.470            0      0.066        -2.154                     0\n",
              "2452    25.455            0      0.063        -2.127                     0\n",
              "2453    25.438            0      0.063        -2.112                     0\n",
              "\n",
              "[2454 rows x 5 columns]"
            ]
          },
          "execution_count": 138,
          "metadata": {},
          "output_type": "execute_result"
        }
      ],
      "source": [
        "df_totalLight = df_avg\n",
        "df_totalLight['S1_Light'] = df_totalLight['S1_Light'] + df_totalLight['S2_Light'] + df_totalLight['S3_Light'] + df_totalLight['S4_Light']\n",
        "df_totalLight = df_totalLight.drop(['S2_Light', 'S3_Light', 'S4_Light'], axis=1)\n",
        "df_totalLight = df_totalLight.rename(columns={'S1_Light':'Total_light'})\n",
        "df_totalLight"
      ]
    },
    {
      "cell_type": "code",
      "execution_count": 139,
      "metadata": {
        "id": "FPUzuU4yxQas"
      },
      "outputs": [],
      "source": [
        "# Split the data into testing and validation\n",
        "X = df_totalLight.drop(['Room_Occupancy_Count'], axis=1)\n",
        "y = df_totalLight['Room_Occupancy_Count']\n",
        "X_train, X_test, y_train, y_test = train_test_split(X, y, test_size = 0.3, random_state = 109)"
      ]
    },
    {
      "cell_type": "code",
      "execution_count": 140,
      "metadata": {
        "id": "HHI1sa51xUrD"
      },
      "outputs": [],
      "source": [
        "# Train a Gaussian Naive Bayes model \n",
        "gnb_totalLight = GaussianNB()\n",
        "gnb_totalLight.fit(X_train, y_train)\n",
        "y_pred = gnb_totalLight.predict(X_test)"
      ]
    },
    {
      "cell_type": "code",
      "execution_count": 141,
      "metadata": {
        "colab": {
          "base_uri": "https://localhost:8080/"
        },
        "id": "yj7g6kF2xcg7",
        "outputId": "ce4c8469-7f88-4c2e-ec7b-8fed3f4774f6"
      },
      "outputs": [
        {
          "name": "stdout",
          "output_type": "stream",
          "text": [
            "Accuracy: 0.8439620081411127\n"
          ]
        }
      ],
      "source": [
        "# Obtain accuracy of the model\n",
        "print(\"Accuracy:\",metrics.accuracy_score(y_test, y_pred))"
      ]
    },
    {
      "cell_type": "code",
      "execution_count": 142,
      "metadata": {
        "colab": {
          "base_uri": "https://localhost:8080/"
        },
        "id": "0wJW4ZZixfsf",
        "outputId": "1293f8e4-a222-441b-a4e6-f648ed0ab488"
      },
      "outputs": [
        {
          "name": "stdout",
          "output_type": "stream",
          "text": [
            "Training set score: 0.8346\n",
            "Test set score: 0.8440\n"
          ]
        }
      ],
      "source": [
        "# Compare the scores between each set to check for overfitting/underfitting\n",
        "print('Training set score: {:.4f}'.format(gnb_totalLight.score(X_train, y_train)))\n",
        "print('Test set score: {:.4f}'.format(gnb_totalLight.score(X_test, y_test)))"
      ]
    },
    {
      "cell_type": "code",
      "execution_count": 143,
      "metadata": {
        "colab": {
          "base_uri": "https://localhost:8080/",
          "height": 334
        },
        "id": "IKW9b_2vxnmf",
        "outputId": "91732c2d-b6e5-46f8-a033-780d67ca2d1a"
      },
      "outputs": [
        {
          "name": "stderr",
          "output_type": "stream",
          "text": [
            "/home/murilobn/.local/lib/python3.10/site-packages/sklearn/utils/deprecation.py:87: FutureWarning: Function plot_confusion_matrix is deprecated; Function `plot_confusion_matrix` is deprecated in 1.0 and will be removed in 1.2. Use one of the class methods: ConfusionMatrixDisplay.from_predictions or ConfusionMatrixDisplay.from_estimator.\n",
            "  warnings.warn(msg, category=FutureWarning)\n"
          ]
        },
        {
          "data": {
            "image/png": "[encoded data removed]",
            "text/plain": [
              "<Figure size 432x288 with 2 Axes>"
            ]
          },
          "metadata": {
            "needs_background": "light"
          },
          "output_type": "display_data"
        }
      ],
      "source": [
        "plot_confusion_matrix(gnb_totalLight, X_test, y_test)  \n",
        "plt.show()"
      ]
    },
    {
      "cell_type": "markdown",
      "metadata": {
        "id": "Vsbw7efpxtJr"
      },
      "source": [
        "Pretty much nothing changed, which is a bit odd. The Naives Bayes Classifier isn't supposed to be that robust, which means some kind of information present in the data is actually leading it to the current results."
      ]
    },
    {
      "cell_type": "markdown",
      "metadata": {
        "id": "9Mosw_gOS7lf"
      },
      "source": [
        "Taking a look at the report with how the data was acquired, the light of the room was strictly controlled. There were lamps in each desk that were only turned on if someone was using it, as such, that incresed the light detected by the sensor and may make our model overly reliant in that parameter. Let's try to take it off and see what happens."
      ]
    },
    {
      "cell_type": "code",
      "execution_count": 144,
      "metadata": {
        "id": "T5icbCQYyPTf"
      },
      "outputs": [],
      "source": [
        "# Split the data into testing and validation\n",
        "X = df_totalLight.drop(['Room_Occupancy_Count', 'Total_light'], axis=1)\n",
        "y = df_totalLight['Room_Occupancy_Count']\n",
        "X_train, X_test, y_train, y_test = train_test_split(X, y, test_size = 0.3, random_state = 109)"
      ]
    },
    {
      "cell_type": "code",
      "execution_count": 145,
      "metadata": {
        "id": "tjLk6HiYyXW-"
      },
      "outputs": [],
      "source": [
        "# Train a Gaussian Naive Bayes model \n",
        "gnb_noLight = GaussianNB()\n",
        "gnb_noLight.fit(X_train, y_train)\n",
        "y_pred = gnb_noLight.predict(X_test)"
      ]
    },
    {
      "cell_type": "code",
      "execution_count": 146,
      "metadata": {
        "colab": {
          "base_uri": "https://localhost:8080/"
        },
        "id": "Fz6oOkNNyeQx",
        "outputId": "79525029-8ddf-4fee-cc6c-69755ee72fc9"
      },
      "outputs": [
        {
          "name": "stdout",
          "output_type": "stream",
          "text": [
            "Accuracy: 0.592944369063772\n"
          ]
        }
      ],
      "source": [
        "# Obtain accuracy of the model\n",
        "print(\"Accuracy:\",metrics.accuracy_score(y_test, y_pred))"
      ]
    },
    {
      "cell_type": "code",
      "execution_count": 147,
      "metadata": {
        "colab": {
          "base_uri": "https://localhost:8080/"
        },
        "id": "Fytnp2RmyjM5",
        "outputId": "dc439d0f-9770-48c4-c4e9-bb611de51625"
      },
      "outputs": [
        {
          "name": "stdout",
          "output_type": "stream",
          "text": [
            "Training set score: 0.6045\n",
            "Test set score: 0.5929\n"
          ]
        }
      ],
      "source": [
        "# Compare the scores between each set to check for overfitting/underfitting\n",
        "print('Training set score: {:.4f}'.format(gnb_noLight.score(X_train, y_train)))\n",
        "print('Test set score: {:.4f}'.format(gnb_noLight.score(X_test, y_test)))"
      ]
    },
    {
      "cell_type": "code",
      "execution_count": 148,
      "metadata": {
        "colab": {
          "base_uri": "https://localhost:8080/",
          "height": 334
        },
        "id": "7Aj8j5vgyqGL",
        "outputId": "c649e9df-0941-4c7b-a0c2-a369e7f18009"
      },
      "outputs": [
        {
          "name": "stderr",
          "output_type": "stream",
          "text": [
            "/home/murilobn/.local/lib/python3.10/site-packages/sklearn/utils/deprecation.py:87: FutureWarning: Function plot_confusion_matrix is deprecated; Function `plot_confusion_matrix` is deprecated in 1.0 and will be removed in 1.2. Use one of the class methods: ConfusionMatrixDisplay.from_predictions or ConfusionMatrixDisplay.from_estimator.\n",
            "  warnings.warn(msg, category=FutureWarning)\n"
          ]
        },
        {
          "data": {
            "image/png": "[encoded data removed]",
            "text/plain": [
              "<Figure size 432x288 with 2 Axes>"
            ]
          },
          "metadata": {
            "needs_background": "light"
          },
          "output_type": "display_data"
        }
      ],
      "source": [
        "plot_confusion_matrix(gnb_noLight, X_test, y_test)\n",
        "plt.savefig('models/6.png')\n",
        "plt.show()"
      ]
    },
    {
      "cell_type": "markdown",
      "metadata": {
        "id": "osAL6qnayuM3"
      },
      "source": [
        "Performance gets much worse all around. Let's try building a model taking off the temperature but keeping the light and see if it's just a coincidence."
      ]
    },
    {
      "cell_type": "code",
      "execution_count": 149,
      "metadata": {
        "id": "r7F1dRnEUON2"
      },
      "outputs": [],
      "source": [
        "df_test = df_avg\n",
        "# Split the data into testing and validation\n",
        "X = df_test.drop(['Room_Occupancy_Count', 'Avg_Temp'], axis=1)\n",
        "y = df_test['Room_Occupancy_Count']\n",
        "X_train, X_test, y_train, y_test = train_test_split(X, y, test_size = 0.3, random_state = 109)"
      ]
    },
    {
      "cell_type": "code",
      "execution_count": 150,
      "metadata": {
        "id": "oeHfKdDRUapE"
      },
      "outputs": [],
      "source": [
        "# Train a Gaussian Naive Bayes model \n",
        "gnb_test = GaussianNB()\n",
        "gnb_test.fit(X_train, y_train)\n",
        "y_pred = gnb_test.predict(X_test)"
      ]
    },
    {
      "cell_type": "code",
      "execution_count": 151,
      "metadata": {
        "colab": {
          "base_uri": "https://localhost:8080/"
        },
        "id": "I70DCReGUkiV",
        "outputId": "797e0e34-8962-4a9f-857a-23dbb24fbfac"
      },
      "outputs": [
        {
          "name": "stdout",
          "output_type": "stream",
          "text": [
            "Accuracy: 0.8222523744911805\n"
          ]
        }
      ],
      "source": [
        "# Obtain accuracy of the model\n",
        "print(\"Accuracy:\",metrics.accuracy_score(y_test, y_pred))"
      ]
    },
    {
      "cell_type": "code",
      "execution_count": 152,
      "metadata": {
        "colab": {
          "base_uri": "https://localhost:8080/"
        },
        "id": "LUeIjgxtVQ8c",
        "outputId": "99cbf544-a4b9-4448-a1e0-8edda44d7fa5"
      },
      "outputs": [
        {
          "name": "stdout",
          "output_type": "stream",
          "text": [
            "Training set score: 0.8247\n",
            "Test set score: 0.8223\n"
          ]
        }
      ],
      "source": [
        "# Compare the scores between each set to check for overfitting/underfitting\n",
        "print('Training set score: {:.4f}'.format(gnb_test.score(X_train, y_train)))\n",
        "print('Test set score: {:.4f}'.format(gnb_test.score(X_test, y_test)))"
      ]
    },
    {
      "cell_type": "code",
      "execution_count": 153,
      "metadata": {
        "colab": {
          "base_uri": "https://localhost:8080/",
          "height": 334
        },
        "id": "pELh_3EnUs1W",
        "outputId": "a9d84a6f-6db0-41e8-b1c8-3b6ba48d6c71"
      },
      "outputs": [
        {
          "name": "stderr",
          "output_type": "stream",
          "text": [
            "/home/murilobn/.local/lib/python3.10/site-packages/sklearn/utils/deprecation.py:87: FutureWarning: Function plot_confusion_matrix is deprecated; Function `plot_confusion_matrix` is deprecated in 1.0 and will be removed in 1.2. Use one of the class methods: ConfusionMatrixDisplay.from_predictions or ConfusionMatrixDisplay.from_estimator.\n",
            "  warnings.warn(msg, category=FutureWarning)\n"
          ]
        },
        {
          "data": {
            "image/png": "[encoded data removed]",
            "text/plain": [
              "<Figure size 432x288 with 2 Axes>"
            ]
          },
          "metadata": {
            "needs_background": "light"
          },
          "output_type": "display_data"
        }
      ],
      "source": [
        "plot_confusion_matrix(gnb_test, X_test, y_test)  \n",
        "plt.show()"
      ]
    },
    {
      "cell_type": "markdown",
      "metadata": {
        "id": "s4fjOALnUwwo"
      },
      "source": [
        "Pretty much back to where we were. So it is clear that the model is relying in light being totally controled in the environment to have great performance. As such, let's try to train a model without any information of the light sensors, but keeping all of the others sensors and see if the classifier can do any better."
      ]
    },
    {
      "cell_type": "code",
      "execution_count": 154,
      "metadata": {
        "id": "NGRnABz4RE5K"
      },
      "outputs": [],
      "source": [
        "# Split the data into testing and validation\n",
        "X = df_balanced.drop(['Room_Occupancy_Count', 'S1_Light', 'S2_Light', 'S3_Light',\t'S4_Light', 'Time', 'Date', 'S5_CO2', 'S6_PIR', 'S7_PIR'], axis=1)\n",
        "y = df_balanced['Room_Occupancy_Count']\n",
        "X_train, X_test, y_train, y_test = train_test_split(X, y, test_size = 0.3, random_state = 109)"
      ]
    },
    {
      "cell_type": "code",
      "execution_count": 155,
      "metadata": {
        "id": "fUZNEv1cTUCU"
      },
      "outputs": [],
      "source": [
        "# Train a Gaussian Naive Bayes model \n",
        "gnb_noLight2 = GaussianNB()\n",
        "gnb_noLight2.fit(X_train, y_train)\n",
        "y_pred = gnb_noLight2.predict(X_test)"
      ]
    },
    {
      "cell_type": "code",
      "execution_count": 156,
      "metadata": {
        "colab": {
          "base_uri": "https://localhost:8080/"
        },
        "id": "Od3M8AJGTzC7",
        "outputId": "c4d78b9b-2914-4568-f0a5-0926264747cb"
      },
      "outputs": [
        {
          "name": "stdout",
          "output_type": "stream",
          "text": [
            "Accuracy: 0.5671641791044776\n"
          ]
        }
      ],
      "source": [
        "# Obtain accuracy of the model\n",
        "print(\"Accuracy:\",metrics.accuracy_score(y_test, y_pred))"
      ]
    },
    {
      "cell_type": "code",
      "execution_count": 157,
      "metadata": {
        "colab": {
          "base_uri": "https://localhost:8080/"
        },
        "id": "80r_A9Q5T4Ls",
        "outputId": "25e8f6e8-69dc-410f-bcd1-f3c36c3f4376"
      },
      "outputs": [
        {
          "name": "stdout",
          "output_type": "stream",
          "text": [
            "Training set score: 0.5836\n",
            "Test set score: 0.5672\n"
          ]
        }
      ],
      "source": [
        "# Compare the scores between each set to check for overfitting/underfitting\n",
        "print('Training set score: {:.4f}'.format(gnb_noLight2.score(X_train, y_train)))\n",
        "print('Test set score: {:.4f}'.format(gnb_noLight2.score(X_test, y_test)))"
      ]
    },
    {
      "cell_type": "code",
      "execution_count": 158,
      "metadata": {
        "colab": {
          "base_uri": "https://localhost:8080/",
          "height": 334
        },
        "id": "WznMnSshT8Q6",
        "outputId": "faf8cbaa-0bd5-4b90-be81-41aa8038ba29"
      },
      "outputs": [
        {
          "name": "stderr",
          "output_type": "stream",
          "text": [
            "/home/murilobn/.local/lib/python3.10/site-packages/sklearn/utils/deprecation.py:87: FutureWarning: Function plot_confusion_matrix is deprecated; Function `plot_confusion_matrix` is deprecated in 1.0 and will be removed in 1.2. Use one of the class methods: ConfusionMatrixDisplay.from_predictions or ConfusionMatrixDisplay.from_estimator.\n",
            "  warnings.warn(msg, category=FutureWarning)\n"
          ]
        },
        {
          "data": {
            "image/png": "[encoded data removed]",
            "text/plain": [
              "<Figure size 432x288 with 2 Axes>"
            ]
          },
          "metadata": {
            "needs_background": "light"
          },
          "output_type": "display_data"
        }
      ],
      "source": [
        "plot_confusion_matrix(gnb_noLight2, X_test, y_test)\n",
        "plt.savefig('models/7.png')\n",
        "plt.show()"
      ]
    },
    {
      "cell_type": "markdown",
      "metadata": {
        "id": "NIYt48yxV4tD"
      },
      "source": [
        "Accuracy gets worse, just like pretty much everything else in the matrix. More mistakes being done everywhere, and those mistakes are worse, as we can see for example in the predictions for class 3, where most of the mistakes are actually predicting class 1, which is not even an neighbor of class 3. Because of that, we will keep using the model with the average values instead of all the sensors. As a last test, we will use the CO2 ppm instead of the average to see if accuracy improves."
      ]
    },
    {
      "cell_type": "code",
      "execution_count": 159,
      "metadata": {
        "colab": {
          "base_uri": "https://localhost:8080/",
          "height": 424
        },
        "id": "jKUiwBbO-p7X",
        "outputId": "8e23bdf8-5771-49a1-8464-3c775e1f3b8d"
      },
      "outputs": [
        {
          "data": {
            "text/html": [
              "<div>\n",
              "<style scoped>\n",
              "    .dataframe tbody tr th:only-of-type {\n",
              "        vertical-align: middle;\n",
              "    }\n",
              "\n",
              "    .dataframe tbody tr th {\n",
              "        vertical-align: top;\n",
              "    }\n",
              "\n",
              "    .dataframe thead th {\n",
              "        text-align: right;\n",
              "    }\n",
              "</style>\n",
              "<table border=\"1\" class=\"dataframe\">\n",
              "  <thead>\n",
              "    <tr style=\"text-align: right;\">\n",
              "      <th></th>\n",
              "      <th>Avg_Temp</th>\n",
              "      <th>Avg_Sound</th>\n",
              "      <th>S5_CO2_Slope</th>\n",
              "      <th>Room_Occupancy_Count</th>\n",
              "    </tr>\n",
              "  </thead>\n",
              "  <tbody>\n",
              "    <tr>\n",
              "      <th>0</th>\n",
              "      <td>24.908</td>\n",
              "      <td>0.086</td>\n",
              "      <td>390</td>\n",
              "      <td>1</td>\n",
              "    </tr>\n",
              "    <tr>\n",
              "      <th>1</th>\n",
              "      <td>24.922</td>\n",
              "      <td>0.114</td>\n",
              "      <td>390</td>\n",
              "      <td>1</td>\n",
              "    </tr>\n",
              "    <tr>\n",
              "      <th>2</th>\n",
              "      <td>24.922</td>\n",
              "      <td>0.123</td>\n",
              "      <td>390</td>\n",
              "      <td>1</td>\n",
              "    </tr>\n",
              "    <tr>\n",
              "      <th>3</th>\n",
              "      <td>24.938</td>\n",
              "      <td>0.139</td>\n",
              "      <td>390</td>\n",
              "      <td>1</td>\n",
              "    </tr>\n",
              "    <tr>\n",
              "      <th>4</th>\n",
              "      <td>24.938</td>\n",
              "      <td>0.079</td>\n",
              "      <td>390</td>\n",
              "      <td>1</td>\n",
              "    </tr>\n",
              "    <tr>\n",
              "      <th>...</th>\n",
              "      <td>...</td>\n",
              "      <td>...</td>\n",
              "      <td>...</td>\n",
              "      <td>...</td>\n",
              "    </tr>\n",
              "    <tr>\n",
              "      <th>2449</th>\n",
              "      <td>25.470</td>\n",
              "      <td>0.063</td>\n",
              "      <td>435</td>\n",
              "      <td>0</td>\n",
              "    </tr>\n",
              "    <tr>\n",
              "      <th>2450</th>\n",
              "      <td>25.470</td>\n",
              "      <td>0.060</td>\n",
              "      <td>430</td>\n",
              "      <td>0</td>\n",
              "    </tr>\n",
              "    <tr>\n",
              "      <th>2451</th>\n",
              "      <td>25.470</td>\n",
              "      <td>0.066</td>\n",
              "      <td>435</td>\n",
              "      <td>0</td>\n",
              "    </tr>\n",
              "    <tr>\n",
              "      <th>2452</th>\n",
              "      <td>25.455</td>\n",
              "      <td>0.063</td>\n",
              "      <td>435</td>\n",
              "      <td>0</td>\n",
              "    </tr>\n",
              "    <tr>\n",
              "      <th>2453</th>\n",
              "      <td>25.438</td>\n",
              "      <td>0.063</td>\n",
              "      <td>430</td>\n",
              "      <td>0</td>\n",
              "    </tr>\n",
              "  </tbody>\n",
              "</table>\n",
              "<p>2454 rows × 4 columns</p>\n",
              "</div>"
            ],
            "text/plain": [
              "      Avg_Temp  Avg_Sound  S5_CO2_Slope  Room_Occupancy_Count\n",
              "0       24.908      0.086           390                     1\n",
              "1       24.922      0.114           390                     1\n",
              "2       24.922      0.123           390                     1\n",
              "3       24.938      0.139           390                     1\n",
              "4       24.938      0.079           390                     1\n",
              "...        ...        ...           ...                   ...\n",
              "2449    25.470      0.063           435                     0\n",
              "2450    25.470      0.060           430                     0\n",
              "2451    25.470      0.066           435                     0\n",
              "2452    25.455      0.063           435                     0\n",
              "2453    25.438      0.063           430                     0\n",
              "\n",
              "[2454 rows x 4 columns]"
            ]
          },
          "execution_count": 159,
          "metadata": {},
          "output_type": "execute_result"
        }
      ],
      "source": [
        "df_ppm = df_totalLight.drop(['Total_light'], axis=1)\n",
        "df_ppm['S5_CO2_Slope'] = df_balanced['S5_CO2']\n",
        "df_ppm"
      ]
    },
    {
      "cell_type": "code",
      "execution_count": 160,
      "metadata": {
        "id": "3XrKS4uk4yib"
      },
      "outputs": [],
      "source": [
        "# Split the data into testing and validation\n",
        "X = df_ppm.drop(['Room_Occupancy_Count'], axis=1)\n",
        "y = df_ppm['Room_Occupancy_Count']\n",
        "X_train, X_test, y_train, y_test = train_test_split(X, y, test_size = 0.3, random_state = 109)"
      ]
    },
    {
      "cell_type": "code",
      "execution_count": 161,
      "metadata": {
        "id": "iwlS3b4t418m"
      },
      "outputs": [],
      "source": [
        "# Train a Gaussian Naive Bayes model \n",
        "gnb_ppm = GaussianNB()\n",
        "gnb_ppm.fit(X_train, y_train)\n",
        "y_pred = gnb_ppm.predict(X_test)"
      ]
    },
    {
      "cell_type": "code",
      "execution_count": 162,
      "metadata": {
        "colab": {
          "base_uri": "https://localhost:8080/"
        },
        "id": "79bgCwHd45iS",
        "outputId": "e891ae3f-6d4c-4160-8943-cba3a76c6e59"
      },
      "outputs": [
        {
          "name": "stdout",
          "output_type": "stream",
          "text": [
            "Accuracy: 0.5630936227951153\n"
          ]
        }
      ],
      "source": [
        "# Obtain accuracy of the model\n",
        "print(\"Accuracy:\",metrics.accuracy_score(y_test, y_pred))"
      ]
    },
    {
      "cell_type": "code",
      "execution_count": 163,
      "metadata": {
        "colab": {
          "base_uri": "https://localhost:8080/"
        },
        "id": "0baMfmhx4-_W",
        "outputId": "d40d82e0-b194-46d2-8eaf-d1659b594e78"
      },
      "outputs": [
        {
          "name": "stdout",
          "output_type": "stream",
          "text": [
            "Training set score: 0.5684\n",
            "Test set score: 0.5631\n"
          ]
        }
      ],
      "source": [
        "# Compare the scores between each set to check for overfitting/underfitting\n",
        "print('Training set score: {:.4f}'.format(gnb_ppm.score(X_train, y_train)))\n",
        "print('Test set score: {:.4f}'.format(gnb_ppm.score(X_test, y_test)))"
      ]
    },
    {
      "cell_type": "code",
      "execution_count": 164,
      "metadata": {
        "colab": {
          "base_uri": "https://localhost:8080/",
          "height": 334
        },
        "id": "Ox3bzpFf5A_z",
        "outputId": "f5273fc0-6d61-421c-9fe0-73f8b9a9b957"
      },
      "outputs": [
        {
          "name": "stderr",
          "output_type": "stream",
          "text": [
            "/home/murilobn/.local/lib/python3.10/site-packages/sklearn/utils/deprecation.py:87: FutureWarning: Function plot_confusion_matrix is deprecated; Function `plot_confusion_matrix` is deprecated in 1.0 and will be removed in 1.2. Use one of the class methods: ConfusionMatrixDisplay.from_predictions or ConfusionMatrixDisplay.from_estimator.\n",
            "  warnings.warn(msg, category=FutureWarning)\n"
          ]
        },
        {
          "data": {
            "image/png": "[encoded data removed]",
            "text/plain": [
              "<Figure size 432x288 with 2 Axes>"
            ]
          },
          "metadata": {
            "needs_background": "light"
          },
          "output_type": "display_data"
        }
      ],
      "source": [
        "plot_confusion_matrix(gnb_ppm, X_test, y_test)  \n",
        "plt.show()"
      ]
    },
    {
      "cell_type": "markdown",
      "metadata": {
        "id": "dJ0OJsOICFkM"
      },
      "source": [
        "Although accuracy didn't change much, the confusion matrix looks worse compared to the \"gnb_noLight\" model, with this one having more mistakes all over the place. We believe that the model that best represents what we should expect from the Gaussian Naive Bayes model for the problem is the one we called \"gnb_noLight\", which takes take average values for temperature and sound, also using the CO2 slope and not taking light and PIR into account. Let's take a look on more metrics to see more details of how the model is currently performing."
      ]
    },
    {
      "cell_type": "code",
      "execution_count": 165,
      "metadata": {
        "id": "chYnF6tG6FIK"
      },
      "outputs": [],
      "source": [
        "# Split the data into testing and validation\n",
        "X = df_totalLight.drop(['Room_Occupancy_Count', 'Total_light'], axis=1)\n",
        "y = df_totalLight['Room_Occupancy_Count']\n",
        "X_train, X_test, y_train, y_test = train_test_split(X, y, test_size = 0.3, random_state = 109)"
      ]
    },
    {
      "cell_type": "code",
      "execution_count": 166,
      "metadata": {
        "colab": {
          "base_uri": "https://localhost:8080/"
        },
        "id": "3jLWBBHtCWL7",
        "outputId": "b14e9f57-0363-4cb5-a3d3-1dd97093041d"
      },
      "outputs": [
        {
          "name": "stdout",
          "output_type": "stream",
          "text": [
            "              precision    recall  f1-score   support\n",
            "\n",
            "           0       0.88      0.17      0.29       169\n",
            "           1       0.42      0.87      0.57       137\n",
            "           2       0.63      0.63      0.63       226\n",
            "           3       0.64      0.60      0.62       205\n",
            "\n",
            "    accuracy                           0.56       737\n",
            "   macro avg       0.64      0.57      0.53       737\n",
            "weighted avg       0.65      0.56      0.54       737\n",
            "\n"
          ]
        }
      ],
      "source": [
        "from sklearn.metrics import classification_report\n",
        "\n",
        "print(classification_report(y_test, y_pred))"
      ]
    },
    {
      "cell_type": "markdown",
      "metadata": {
        "id": "mrld5KjUCvTl"
      },
      "source": [
        "Precision and recall are the metrics we are looking for here. Precision indicates the amount positive identifications for the class that were actually correct, while recall indicates how many of the positive predictions made for the class were correct. We can see that our model actually is really good when predicting class 0, and it is also good with getting most of the class 1 predictions that were true. But that's pretty much all of the positive and is not much. The model in general is pretty lackluster in most of the scenarios."
      ]
    },
    {
      "cell_type": "markdown",
      "metadata": {
        "id": "cS49wU_ZH4wf"
      },
      "source": [
        "Now let's try to do a 10-fold cross validation to see if the performance of our model is actually being constant or if it is relying in getting certain data to get its accuracy."
      ]
    },
    {
      "cell_type": "code",
      "execution_count": 167,
      "metadata": {
        "colab": {
          "base_uri": "https://localhost:8080/"
        },
        "id": "BJXKjztSDbg7",
        "outputId": "79510738-afff-4b82-fb67-4ec4a981e136"
      },
      "outputs": [
        {
          "name": "stdout",
          "output_type": "stream",
          "text": [
            "Cross-validation scores:[0.62209302 0.54651163 0.62790698 0.55232558 0.62209302 0.70930233\n",
            " 0.56395349 0.61988304 0.59064327 0.57894737]\n",
            "Average cross-validation score: 0.6034\n"
          ]
        }
      ],
      "source": [
        "# Applying 10-Fold Cross Validation\n",
        "from sklearn.model_selection import cross_val_score\n",
        "\n",
        "scores = cross_val_score(gnb_noLight, X_train, y_train, cv = 10, scoring='accuracy')\n",
        "\n",
        "print('Cross-validation scores:{}'.format(scores))\n",
        "\n",
        "# Compute Average cross-validation score\n",
        "print('Average cross-validation score: {:.4f}'.format(scores.mean()))"
      ]
    },
    {
      "cell_type": "markdown",
      "metadata": {
        "id": "8Rvh_kaTIHJ1"
      },
      "source": [
        "Our average is pretty close to the accuracy obtained before, so it looks like our model is not relying in getting the right data to work as it is. Looking at the array of scores, they can vary quite a bit, getting up to 0.70 scores, but also as low as 0.54."
      ]
    },
    {
      "cell_type": "markdown",
      "metadata": {
        "id": "UHbW3UjzIbAW"
      },
      "source": [
        "The general conclusion is that the Gaussian Naive Bayes is just not best suited for the dataset we were dealing with, which is proven by the low accuracy and other metrics. We can't be sure of how it would actually perform if light was actually measured without strict control, but we can not trust the model built with the lights on as it is strictly with that information, and it was the only situation where the model actually performed well."
      ]
    },
    {
      "cell_type": "markdown",
      "metadata": {
        "id": "tk0jPC3QJfxW"
      },
      "source": [
        "## Extra - Random Forest Classifier"
      ]
    },
    {
      "cell_type": "markdown",
      "metadata": {
        "id": "oTw60v5BJgh_"
      },
      "source": [
        "Since Naive Bayes assumes that every variable is independent, we can actually mix different classifiers to try getting better results. The problem is that Scikit learn doesn't actually does that by itself, so we would have to do that by hand. The idea is that we can also use the PIR values with the Bernoulli Bayes to boost our Gaussian Naive that seemed to be the most \"correct\", which we called by \"gnb_noLight\". "
      ]
    },
    {
      "cell_type": "code",
      "execution_count": 168,
      "metadata": {
        "id": "dQPv-zHOOdQU"
      },
      "outputs": [],
      "source": [
        "# Split the data into testing and validation\n",
        "X = df_totalLight.drop(['Room_Occupancy_Count', 'Total_light'], axis=1)\n",
        "y = df_totalLight['Room_Occupancy_Count']\n",
        "X_train, X_test, y_train, y_test = train_test_split(X, y, test_size = 0.3, random_state = 109)"
      ]
    },
    {
      "cell_type": "code",
      "execution_count": 169,
      "metadata": {
        "colab": {
          "base_uri": "https://localhost:8080/"
        },
        "id": "APsRczwGOTiZ",
        "outputId": "6929d112-b1a2-4dd3-d5dc-8c748a0a87bb"
      },
      "outputs": [
        {
          "name": "stdout",
          "output_type": "stream",
          "text": [
            "Model accuracy score with 10 decision-trees : 0.8942\n"
          ]
        }
      ],
      "source": [
        "# import Random Forest classifier\n",
        "from sklearn.ensemble import RandomForestClassifier\n",
        "\n",
        "# instantiate the classifier \n",
        "rfc = RandomForestClassifier(random_state=0, n_estimators=10)\n",
        "\n",
        "# fit the model\n",
        "rfc.fit(X_train, y_train)\n",
        "\n",
        "# Predict the Test set results\n",
        "y_pred = rfc.predict(X_test)\n",
        "\n",
        "# Check accuracy score \n",
        "print('Model accuracy score with 10 decision-trees : {0:0.4f}'. format(metrics.accuracy_score(y_test, y_pred)))"
      ]
    },
    {
      "cell_type": "code",
      "execution_count": 170,
      "metadata": {
        "colab": {
          "base_uri": "https://localhost:8080/"
        },
        "id": "d3KE4QqhPORM",
        "outputId": "c3662e8d-cc68-4576-d4f9-5660780ee959"
      },
      "outputs": [
        {
          "name": "stdout",
          "output_type": "stream",
          "text": [
            "Training set score: 0.9959\n",
            "Test set score: 0.8942\n"
          ]
        }
      ],
      "source": [
        "# Compare the scores between each set to check for overfitting/underfitting\n",
        "print('Training set score: {:.4f}'.format(rfc.score(X_train, y_train)))\n",
        "print('Test set score: {:.4f}'.format(rfc.score(X_test, y_test)))"
      ]
    },
    {
      "cell_type": "code",
      "execution_count": 171,
      "metadata": {
        "colab": {
          "base_uri": "https://localhost:8080/"
        },
        "id": "_Kl5YRghOoqL",
        "outputId": "2dd6c653-c923-4655-cd9d-5e17d3fb7fcf"
      },
      "outputs": [
        {
          "name": "stdout",
          "output_type": "stream",
          "text": [
            "              precision    recall  f1-score   support\n",
            "\n",
            "           0       0.96      0.93      0.95       169\n",
            "           1       0.88      0.92      0.90       137\n",
            "           2       0.87      0.86      0.86       226\n",
            "           3       0.88      0.88      0.88       205\n",
            "\n",
            "    accuracy                           0.89       737\n",
            "   macro avg       0.90      0.90      0.90       737\n",
            "weighted avg       0.89      0.89      0.89       737\n",
            "\n"
          ]
        }
      ],
      "source": [
        "print(classification_report(y_test, y_pred))"
      ]
    },
    {
      "cell_type": "code",
      "execution_count": 172,
      "metadata": {
        "colab": {
          "base_uri": "https://localhost:8080/"
        },
        "id": "hAm2Ef6gOp_B",
        "outputId": "30a63ea4-ab31-4fbf-d537-2a684d9114ce"
      },
      "outputs": [
        {
          "name": "stdout",
          "output_type": "stream",
          "text": [
            "Cross-validation scores:[0.87790698 0.87790698 0.84302326 0.86046512 0.90116279 0.91860465\n",
            " 0.84883721 0.91812865 0.88304094 0.90643275]\n",
            "Average cross-validation score: 0.8836\n"
          ]
        }
      ],
      "source": [
        "scores = cross_val_score(rfc, X_train, y_train, cv = 10, scoring='accuracy')\n",
        "\n",
        "print('Cross-validation scores:{}'.format(scores))\n",
        "\n",
        "# Compute Average cross-validation score\n",
        "print('Average cross-validation score: {:.4f}'.format(scores.mean()))"
      ]
    },
    {
      "cell_type": "markdown",
      "metadata": {
        "id": "76--iTgkQU3C"
      },
      "source": [
        "The small amount of data actually shows slight signs of overfitting with as much as 10 decision trees. Even then, the performance metrics of the model shows that it is actually being able to make a good job at predicting the classes. "
      ]
    },
    {
      "cell_type": "markdown",
      "metadata": {
        "id": "8ycwA7iTJ0wx"
      },
      "source": [
        "That shows us that while yes, the task can be done, it isn't ideal for a Bayes Classifier. Bayes can be used when there are tons of data because of its low computational cost, and as such it can also learn much more from its data. Because we are also using a Gaussian Naive Bayes, approximating the data to a gaussian distribution also gets better with more data, and as such, the model performance could also improve."
      ]
    }
  ],
  "metadata": {
    "colab": {
      "collapsed_sections": [],
      "name": "projEst.ipynb",
      "provenance": []
    },
    "interpreter": {
      "hash": "e7370f93d1d0cde622a1f8e1c04877d8463912d04d973331ad4851f04de6915a"
    },
    "kernelspec": {
      "display_name": "Python 3.10.4 64-bit",
      "language": "python",
      "name": "python3"
    },
    "language_info": {
      "codemirror_mode": {
        "name": "ipython",
        "version": 3
      },
      "file_extension": ".py",
      "mimetype": "text/x-python",
      "name": "python",
      "nbconvert_exporter": "python",
      "pygments_lexer": "ipython3",
      "version": "3.10.4"
    }
  },
  "nbformat": 4,
  "nbformat_minor": 0
}
