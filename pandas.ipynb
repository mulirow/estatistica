{
  "cells": [
    {
      "cell_type": "code",
      "execution_count": 16,
      "metadata": {
        "id": "PyviNQ0Iqfl-"
      },
      "outputs": [],
      "source": [
        "import numpy as np\n",
        "import pandas as pd\n",
        "\n",
        "from sklearn.model_selection import train_test_split\n",
        "from sklearn.naive_bayes import GaussianNB\n",
        "from sklearn import metrics"
      ]
    },
    {
      "cell_type": "code",
      "execution_count": 17,
      "metadata": {
        "id": "MZPjbdgmqfmI"
      },
      "outputs": [],
      "source": [
        "df = pd.read_csv('data/database.csv', sep=',')"
      ]
    },
    {
      "cell_type": "code",
      "execution_count": 18,
      "metadata": {
        "colab": {
          "base_uri": "https://localhost:8080/",
          "height": 840
        },
        "id": "5_aeumzdqfmK",
        "outputId": "94e8d9d3-8140-4e9c-a5b7-540b3670593d"
      },
      "outputs": [
        {
          "data": {
            "text/html": [
              "<div>\n",
              "<style scoped>\n",
              "    .dataframe tbody tr th:only-of-type {\n",
              "        vertical-align: middle;\n",
              "    }\n",
              "\n",
              "    .dataframe tbody tr th {\n",
              "        vertical-align: top;\n",
              "    }\n",
              "\n",
              "    .dataframe thead th {\n",
              "        text-align: right;\n",
              "    }\n",
              "</style>\n",
              "<table border=\"1\" class=\"dataframe\">\n",
              "  <thead>\n",
              "    <tr style=\"text-align: right;\">\n",
              "      <th></th>\n",
              "      <th>Time</th>\n",
              "      <th>Avg_Temp</th>\n",
              "      <th>S1_Light</th>\n",
              "      <th>S2_Light</th>\n",
              "      <th>S3_Light</th>\n",
              "      <th>S4_Light</th>\n",
              "      <th>Avg_Sound</th>\n",
              "      <th>S5_CO2</th>\n",
              "      <th>S5_CO2_Slope</th>\n",
              "      <th>S6_PIR</th>\n",
              "      <th>S7_PIR</th>\n",
              "      <th>Room_Occupancy_Count</th>\n",
              "    </tr>\n",
              "  </thead>\n",
              "  <tbody>\n",
              "    <tr>\n",
              "      <th>0</th>\n",
              "      <td>38981</td>\n",
              "      <td>24.908</td>\n",
              "      <td>121</td>\n",
              "      <td>34</td>\n",
              "      <td>53</td>\n",
              "      <td>40</td>\n",
              "      <td>0.086</td>\n",
              "      <td>390</td>\n",
              "      <td>0.769</td>\n",
              "      <td>0</td>\n",
              "      <td>0</td>\n",
              "      <td>1</td>\n",
              "    </tr>\n",
              "    <tr>\n",
              "      <th>1</th>\n",
              "      <td>39012</td>\n",
              "      <td>24.922</td>\n",
              "      <td>121</td>\n",
              "      <td>33</td>\n",
              "      <td>53</td>\n",
              "      <td>40</td>\n",
              "      <td>0.114</td>\n",
              "      <td>390</td>\n",
              "      <td>0.646</td>\n",
              "      <td>0</td>\n",
              "      <td>0</td>\n",
              "      <td>1</td>\n",
              "    </tr>\n",
              "    <tr>\n",
              "      <th>2</th>\n",
              "      <td>39042</td>\n",
              "      <td>24.922</td>\n",
              "      <td>121</td>\n",
              "      <td>34</td>\n",
              "      <td>53</td>\n",
              "      <td>40</td>\n",
              "      <td>0.123</td>\n",
              "      <td>390</td>\n",
              "      <td>0.519</td>\n",
              "      <td>0</td>\n",
              "      <td>0</td>\n",
              "      <td>1</td>\n",
              "    </tr>\n",
              "    <tr>\n",
              "      <th>3</th>\n",
              "      <td>39073</td>\n",
              "      <td>24.938</td>\n",
              "      <td>121</td>\n",
              "      <td>34</td>\n",
              "      <td>53</td>\n",
              "      <td>40</td>\n",
              "      <td>0.139</td>\n",
              "      <td>390</td>\n",
              "      <td>0.388</td>\n",
              "      <td>0</td>\n",
              "      <td>0</td>\n",
              "      <td>1</td>\n",
              "    </tr>\n",
              "    <tr>\n",
              "      <th>4</th>\n",
              "      <td>39104</td>\n",
              "      <td>24.938</td>\n",
              "      <td>121</td>\n",
              "      <td>34</td>\n",
              "      <td>54</td>\n",
              "      <td>40</td>\n",
              "      <td>0.079</td>\n",
              "      <td>390</td>\n",
              "      <td>0.254</td>\n",
              "      <td>0</td>\n",
              "      <td>0</td>\n",
              "      <td>1</td>\n",
              "    </tr>\n",
              "    <tr>\n",
              "      <th>...</th>\n",
              "      <td>...</td>\n",
              "      <td>...</td>\n",
              "      <td>...</td>\n",
              "      <td>...</td>\n",
              "      <td>...</td>\n",
              "      <td>...</td>\n",
              "      <td>...</td>\n",
              "      <td>...</td>\n",
              "      <td>...</td>\n",
              "      <td>...</td>\n",
              "      <td>...</td>\n",
              "      <td>...</td>\n",
              "    </tr>\n",
              "    <tr>\n",
              "      <th>2449</th>\n",
              "      <td>71877</td>\n",
              "      <td>25.470</td>\n",
              "      <td>0</td>\n",
              "      <td>0</td>\n",
              "      <td>0</td>\n",
              "      <td>0</td>\n",
              "      <td>0.063</td>\n",
              "      <td>435</td>\n",
              "      <td>-2.050</td>\n",
              "      <td>0</td>\n",
              "      <td>0</td>\n",
              "      <td>0</td>\n",
              "    </tr>\n",
              "    <tr>\n",
              "      <th>2450</th>\n",
              "      <td>71907</td>\n",
              "      <td>25.470</td>\n",
              "      <td>0</td>\n",
              "      <td>0</td>\n",
              "      <td>0</td>\n",
              "      <td>0</td>\n",
              "      <td>0.060</td>\n",
              "      <td>430</td>\n",
              "      <td>-2.192</td>\n",
              "      <td>0</td>\n",
              "      <td>0</td>\n",
              "      <td>0</td>\n",
              "    </tr>\n",
              "    <tr>\n",
              "      <th>2451</th>\n",
              "      <td>71938</td>\n",
              "      <td>25.470</td>\n",
              "      <td>0</td>\n",
              "      <td>0</td>\n",
              "      <td>0</td>\n",
              "      <td>0</td>\n",
              "      <td>0.066</td>\n",
              "      <td>435</td>\n",
              "      <td>-2.154</td>\n",
              "      <td>0</td>\n",
              "      <td>0</td>\n",
              "      <td>0</td>\n",
              "    </tr>\n",
              "    <tr>\n",
              "      <th>2452</th>\n",
              "      <td>71968</td>\n",
              "      <td>25.455</td>\n",
              "      <td>0</td>\n",
              "      <td>0</td>\n",
              "      <td>0</td>\n",
              "      <td>0</td>\n",
              "      <td>0.063</td>\n",
              "      <td>435</td>\n",
              "      <td>-2.127</td>\n",
              "      <td>0</td>\n",
              "      <td>0</td>\n",
              "      <td>0</td>\n",
              "    </tr>\n",
              "    <tr>\n",
              "      <th>2453</th>\n",
              "      <td>71999</td>\n",
              "      <td>25.438</td>\n",
              "      <td>0</td>\n",
              "      <td>0</td>\n",
              "      <td>0</td>\n",
              "      <td>0</td>\n",
              "      <td>0.063</td>\n",
              "      <td>430</td>\n",
              "      <td>-2.112</td>\n",
              "      <td>0</td>\n",
              "      <td>0</td>\n",
              "      <td>0</td>\n",
              "    </tr>\n",
              "  </tbody>\n",
              "</table>\n",
              "<p>2454 rows × 12 columns</p>\n",
              "</div>"
            ],
            "text/plain": [
              "       Time  Avg_Temp  S1_Light  S2_Light  S3_Light  S4_Light  Avg_Sound  \\\n",
              "0     38981    24.908       121        34        53        40      0.086   \n",
              "1     39012    24.922       121        33        53        40      0.114   \n",
              "2     39042    24.922       121        34        53        40      0.123   \n",
              "3     39073    24.938       121        34        53        40      0.139   \n",
              "4     39104    24.938       121        34        54        40      0.079   \n",
              "...     ...       ...       ...       ...       ...       ...        ...   \n",
              "2449  71877    25.470         0         0         0         0      0.063   \n",
              "2450  71907    25.470         0         0         0         0      0.060   \n",
              "2451  71938    25.470         0         0         0         0      0.066   \n",
              "2452  71968    25.455         0         0         0         0      0.063   \n",
              "2453  71999    25.438         0         0         0         0      0.063   \n",
              "\n",
              "      S5_CO2  S5_CO2_Slope  S6_PIR  S7_PIR  Room_Occupancy_Count  \n",
              "0        390         0.769       0       0                     1  \n",
              "1        390         0.646       0       0                     1  \n",
              "2        390         0.519       0       0                     1  \n",
              "3        390         0.388       0       0                     1  \n",
              "4        390         0.254       0       0                     1  \n",
              "...      ...           ...     ...     ...                   ...  \n",
              "2449     435        -2.050       0       0                     0  \n",
              "2450     430        -2.192       0       0                     0  \n",
              "2451     435        -2.154       0       0                     0  \n",
              "2452     435        -2.127       0       0                     0  \n",
              "2453     430        -2.112       0       0                     0  \n",
              "\n",
              "[2454 rows x 12 columns]"
            ]
          },
          "execution_count": 18,
          "metadata": {},
          "output_type": "execute_result"
        }
      ],
      "source": [
        "# Filter regarding timestamps\n",
        "df = df[((df['Time'] > '10:00:00') & (df['Time'] < '20:00:00') & \\\n",
        "     ((df['Time'] < '14:20:00') | (df['Time'] > '15:20:00')) & \\\n",
        "     (df['Date'] != '2017/12/24') & (df['Date'] != '2017/12/25'))]\n",
        "df['Time'] = df['Time'].str.split(':').apply(lambda x: int(x[0]) * 3600 + int(x[1]) * 60 + int(x[2]))\n",
        "\n",
        "# Calculate averages and round values\n",
        "df['S1_Temp'] = round((df['S1_Temp'] + df['S2_Temp'] + df['S3_Temp'] + df['S4_Temp'])/4, 3)\n",
        "df['S1_Sound'] = round((df['S1_Sound'] * df['S2_Sound'] * df['S3_Sound'] * df['S4_Sound']) ** (1/4), 3)\n",
        "df['S5_CO2_Slope'] = round(df['S5_CO2_Slope'], 3)\n",
        "\n",
        "# Remove unneeded columns\n",
        "df = df.drop(labels=['Date', 'S2_Temp', 'S3_Temp', 'S4_Temp', 'S2_Sound', 'S3_Sound', 'S4_Sound'], axis=1)\n",
        "\n",
        "# Reorganize the DataFrame after modifications\n",
        "df = df.rename(columns={\"S1_Temp\" : \"Avg_Temp\", \"S1_Sound\" : \"Avg_Sound\"})\n",
        "df = df.reset_index(drop=1)\n",
        "\n",
        "# Test print\n",
        "df"
      ]
    },
    {
      "cell_type": "code",
      "execution_count": 19,
      "metadata": {
        "id": "23l1phJEqfmN"
      },
      "outputs": [],
      "source": [
        "# Split the data into testing and validation\n",
        "X = df.drop(['Room_Occupancy_Count', 'Time'], axis=1)\n",
        "y = df['Room_Occupancy_Count']\n",
        "X_train, X_test, y_train, y_test = train_test_split(X, y, test_size = 0.3, random_state = 109)"
      ]
    },
    {
      "cell_type": "code",
      "execution_count": 20,
      "metadata": {
        "id": "P_iKbc8bsh2h"
      },
      "outputs": [],
      "source": [
        "# Train a Gaussian Naive Bayes model \n",
        "gnb = GaussianNB()\n",
        "gnb.fit(X_train, y_train)\n",
        "y_pred = gnb.predict(X_test)"
      ]
    },
    {
      "cell_type": "code",
      "execution_count": 21,
      "metadata": {
        "colab": {
          "base_uri": "https://localhost:8080/"
        },
        "id": "U5hpeJsxszr2",
        "outputId": "1d3b449e-97e3-4b70-c045-dfd526ac82ff"
      },
      "outputs": [
        {
          "name": "stdout",
          "output_type": "stream",
          "text": [
            "Accuracy: 0.921302578018996\n"
          ]
        }
      ],
      "source": [
        "# Obtain accuracy of the model\n",
        "print(\"Accuracy:\",metrics.accuracy_score(y_test, y_pred))"
      ]
    },
    {
      "cell_type": "code",
      "execution_count": 22,
      "metadata": {
        "colab": {
          "base_uri": "https://localhost:8080/"
        },
        "id": "vqRAqpqpuG9q",
        "outputId": "aa9edb1c-5fa7-44a0-ef29-d6bf8c1115bb"
      },
      "outputs": [
        {
          "name": "stdout",
          "output_type": "stream",
          "text": [
            "Training set score: 0.8952\n",
            "Test set score: 0.9213\n"
          ]
        }
      ],
      "source": [
        "# Compare the scores between each set to check for overfitting/underfitting\n",
        "print('Training set score: {:.4f}'.format(gnb.score(X_train, y_train)))\n",
        "print('Test set score: {:.4f}'.format(gnb.score(X_test, y_test)))"
      ]
    },
    {
      "cell_type": "code",
      "execution_count": 23,
      "metadata": {
        "colab": {
          "base_uri": "https://localhost:8080/",
          "height": 334
        },
        "id": "dSnve4Rxu341",
        "outputId": "ac0154ab-2ff3-4b09-ad51-c9465f579ccb"
      },
      "outputs": [
        {
          "name": "stderr",
          "output_type": "stream",
          "text": [
            "/home/murilobn/.local/lib/python3.10/site-packages/sklearn/utils/deprecation.py:87: FutureWarning: Function plot_confusion_matrix is deprecated; Function `plot_confusion_matrix` is deprecated in 1.0 and will be removed in 1.2. Use one of the class methods: ConfusionMatrixDisplay.from_predictions or ConfusionMatrixDisplay.from_estimator.\n",
            "  warnings.warn(msg, category=FutureWarning)\n"
          ]
        },
        {
          "data": {
            "image/png": "[encoded data removed]",
            "text/plain": [
              "<Figure size 432x288 with 2 Axes>"
            ]
          },
          "metadata": {
            "needs_background": "light"
          },
          "output_type": "display_data"
        }
      ],
      "source": [
        "# Better visualize how the model is performing through a confusion matrix\n",
        "import matplotlib.pyplot as plt\n",
        "from sklearn.metrics import plot_confusion_matrix\n",
        "\n",
        "plot_confusion_matrix(gnb, X_test, y_test)  \n",
        "plt.show()\n"
      ]
    },
    {
      "cell_type": "code",
      "execution_count": 24,
      "metadata": {
        "id": "6LQT0P-QyZy_"
      },
      "outputs": [],
      "source": [
        "# Dropping time and CO2 from the sets\n",
        "X = df.drop(['Room_Occupancy_Count', 'S5_CO2', 'Time'], axis=1)\n",
        "y = df['Room_Occupancy_Count']\n",
        "X_train, X_test, y_train, y_test = train_test_split(X, y, test_size = 0.3, random_state = 109)"
      ]
    },
    {
      "cell_type": "code",
      "execution_count": 25,
      "metadata": {
        "id": "aVlJOGTdzBPs"
      },
      "outputs": [],
      "source": [
        "# Training a new model\n",
        "gnb2 = GaussianNB()\n",
        "gnb2.fit(X_train, y_train)\n",
        "y_pred = gnb2.predict(X_test)"
      ]
    },
    {
      "cell_type": "code",
      "execution_count": 26,
      "metadata": {
        "colab": {
          "base_uri": "https://localhost:8080/"
        },
        "id": "JN3RPDqNzFuL",
        "outputId": "7cf41c83-3adc-40fe-ffa0-3bb6dd61db86"
      },
      "outputs": [
        {
          "name": "stdout",
          "output_type": "stream",
          "text": [
            "Accuracy: 0.9131614654002713\n"
          ]
        }
      ],
      "source": [
        "# Obtaining accuracy of the model\n",
        "print(\"Accuracy:\",metrics.accuracy_score(y_test, y_pred))"
      ]
    },
    {
      "cell_type": "code",
      "execution_count": 27,
      "metadata": {
        "colab": {
          "base_uri": "https://localhost:8080/"
        },
        "id": "XoTcpkCxzK68",
        "outputId": "89df4238-bb48-43a3-b69e-ce1de8d2eda3"
      },
      "outputs": [
        {
          "name": "stdout",
          "output_type": "stream",
          "text": [
            "Training set score: 0.8841\n",
            "Test set score: 0.9132\n"
          ]
        }
      ],
      "source": [
        "# Once again checking for overfitting and underfitting\n",
        "print('Training set score: {:.4f}'.format(gnb2.score(X_train, y_train)))\n",
        "print('Test set score: {:.4f}'.format(gnb2.score(X_test, y_test)))"
      ]
    },
    {
      "cell_type": "code",
      "execution_count": 28,
      "metadata": {
        "colab": {
          "base_uri": "https://localhost:8080/",
          "height": 334
        },
        "id": "kVUQcYsRzPvM",
        "outputId": "3e9d9556-9c63-4c34-afeb-823e2abcfe4a"
      },
      "outputs": [
        {
          "name": "stderr",
          "output_type": "stream",
          "text": [
            "/home/murilobn/.local/lib/python3.10/site-packages/sklearn/utils/deprecation.py:87: FutureWarning: Function plot_confusion_matrix is deprecated; Function `plot_confusion_matrix` is deprecated in 1.0 and will be removed in 1.2. Use one of the class methods: ConfusionMatrixDisplay.from_predictions or ConfusionMatrixDisplay.from_estimator.\n",
            "  warnings.warn(msg, category=FutureWarning)\n"
          ]
        },
        {
          "data": {
            "image/png": "[encoded data removed]",
            "text/plain": [
              "<Figure size 432x288 with 2 Axes>"
            ]
          },
          "metadata": {
            "needs_background": "light"
          },
          "output_type": "display_data"
        }
      ],
      "source": [
        "plot_confusion_matrix(gnb2, X_test, y_test)  \n",
        "plt.show()"
      ]
    }
  ],
  "metadata": {
    "colab": {
      "name": "pandas.ipynb",
      "provenance": []
    },
    "interpreter": {
      "hash": "e7370f93d1d0cde622a1f8e1c04877d8463912d04d973331ad4851f04de6915a"
    },
    "kernelspec": {
      "display_name": "Python 3.10.4 64-bit",
      "language": "python",
      "name": "python3"
    },
    "language_info": {
      "codemirror_mode": {
        "name": "ipython",
        "version": 3
      },
      "file_extension": ".py",
      "mimetype": "text/x-python",
      "name": "python",
      "nbconvert_exporter": "python",
      "pygments_lexer": "ipython3",
      "version": "3.10.4"
    },
    "orig_nbformat": 4
  },
  "nbformat": 4,
  "nbformat_minor": 0
}
